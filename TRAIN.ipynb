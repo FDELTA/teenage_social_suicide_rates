{
 "cells": [
  {
   "cell_type": "code",
   "execution_count": 2,
   "metadata": {},
   "outputs": [],
   "source": [
    "import pandas as pd\n",
    "import numpy as np\n",
    "from collections import Counter\n",
    "from nltk.corpus import stopwords\n",
    "import time\n",
    "#Supervised\n",
    "import nltk\n",
    "from sklearn.feature_extraction.text import TfidfVectorizer, HashingVectorizer, CountVectorizer\n",
    "from sklearn.naive_bayes import BernoulliNB\n",
    "from sklearn.base import BaseEstimator, TransformerMixin\n",
    "from sklearn.metrics import accuracy_score\n",
    "from sklearn.metrics import confusion_matrix\n",
    "from sklearn.metrics import classification_report\n",
    "from sklearn.model_selection import train_test_split\n",
    "from sklearn.preprocessing import LabelEncoder\n",
    "from sklearn.model_selection import cross_val_score\n",
    "from sklearn.pipeline import Pipeline\n",
    "from sklearn.feature_extraction.text import TfidfTransformer\n",
    "from sklearn.naive_bayes import MultinomialNB\n",
    "from sklearn.model_selection import GridSearchCV\n",
    "from sklearn.preprocessing import MinMaxScaler\n",
    "from sklearn.pipeline import FeatureUnion\n",
    "from sklearn.svm import LinearSVC\n",
    "import pickle\n",
    "#Unsupervised\n",
    "# Deep Learning\n",
    "import torch\n",
    "from keras.preprocessing.text import Tokenizer\n",
    "from keras.preprocessing.sequence import pad_sequences\n",
    "from keras.utils.np_utils import to_categorical\n",
    "from keras.models import Sequential\n",
    "from keras import regularizers\n",
    "from keras.layers import Dense, Embedding, LSTM, Dropout"
   ]
  },
  {
   "cell_type": "code",
   "execution_count": 3,
   "metadata": {},
   "outputs": [
    {
     "data": {
      "text/html": [
       "<div>\n",
       "<style scoped>\n",
       "    .dataframe tbody tr th:only-of-type {\n",
       "        vertical-align: middle;\n",
       "    }\n",
       "\n",
       "    .dataframe tbody tr th {\n",
       "        vertical-align: top;\n",
       "    }\n",
       "\n",
       "    .dataframe thead th {\n",
       "        text-align: right;\n",
       "    }\n",
       "</style>\n",
       "<table border=\"1\" class=\"dataframe\">\n",
       "  <thead>\n",
       "    <tr style=\"text-align: right;\">\n",
       "      <th></th>\n",
       "      <th>target</th>\n",
       "      <th>ids</th>\n",
       "      <th>date</th>\n",
       "      <th>flag</th>\n",
       "      <th>user</th>\n",
       "      <th>text</th>\n",
       "      <th>procesado</th>\n",
       "      <th>Polaridad</th>\n",
       "      <th>Subjetividad</th>\n",
       "      <th>palabras</th>\n",
       "    </tr>\n",
       "  </thead>\n",
       "  <tbody>\n",
       "    <tr>\n",
       "      <th>0</th>\n",
       "      <td>Negativa</td>\n",
       "      <td>2014943573</td>\n",
       "      <td>Wed Jun 03 03:11:56 PDT 2009</td>\n",
       "      <td>NO_QUERY</td>\n",
       "      <td>bexodus</td>\n",
       "      <td>@MissScion Fell asleep around 9p last night wo...</td>\n",
       "      <td>['fell', 'asleep', 'around', 'last', 'night', ...</td>\n",
       "      <td>-0.016667</td>\n",
       "      <td>0.488889</td>\n",
       "      <td>26</td>\n",
       "    </tr>\n",
       "    <tr>\n",
       "      <th>1</th>\n",
       "      <td>Positiva</td>\n",
       "      <td>1971796339</td>\n",
       "      <td>Sat May 30 07:55:06 PDT 2009</td>\n",
       "      <td>NO_QUERY</td>\n",
       "      <td>sazmataz_x</td>\n",
       "      <td>@katie_andhearts going in town later to get my...</td>\n",
       "      <td>['going', 'town', 'late', 'get', 'prom', 'shoe...</td>\n",
       "      <td>0.250000</td>\n",
       "      <td>0.650000</td>\n",
       "      <td>14</td>\n",
       "    </tr>\n",
       "    <tr>\n",
       "      <th>2</th>\n",
       "      <td>Positiva</td>\n",
       "      <td>1978132662</td>\n",
       "      <td>Sat May 30 22:31:29 PDT 2009</td>\n",
       "      <td>NO_QUERY</td>\n",
       "      <td>Deasoy</td>\n",
       "      <td>happy day</td>\n",
       "      <td>['happy', 'day']</td>\n",
       "      <td>0.800000</td>\n",
       "      <td>1.000000</td>\n",
       "      <td>2</td>\n",
       "    </tr>\n",
       "    <tr>\n",
       "      <th>3</th>\n",
       "      <td>Negativa</td>\n",
       "      <td>1679901725</td>\n",
       "      <td>Sat May 02 10:26:43 PDT 2009</td>\n",
       "      <td>NO_QUERY</td>\n",
       "      <td>SashaPanda</td>\n",
       "      <td>Tummy Hurts  Stupid Stress</td>\n",
       "      <td>['tummy', 'hurts', 'stupid', 'stress']</td>\n",
       "      <td>-0.800000</td>\n",
       "      <td>1.000000</td>\n",
       "      <td>4</td>\n",
       "    </tr>\n",
       "    <tr>\n",
       "      <th>4</th>\n",
       "      <td>Neutral</td>\n",
       "      <td>2055154954</td>\n",
       "      <td>Sat Jun 06 08:48:06 PDT 2009</td>\n",
       "      <td>NO_QUERY</td>\n",
       "      <td>LianeGentrySkye</td>\n",
       "      <td>@jodywallace  Are you at the LF event?  I have...</td>\n",
       "      <td>['event', 'seen']</td>\n",
       "      <td>0.000000</td>\n",
       "      <td>0.000000</td>\n",
       "      <td>11</td>\n",
       "    </tr>\n",
       "  </tbody>\n",
       "</table>\n",
       "</div>"
      ],
      "text/plain": [
       "     target         ids                          date      flag  \\\n",
       "0  Negativa  2014943573  Wed Jun 03 03:11:56 PDT 2009  NO_QUERY   \n",
       "1  Positiva  1971796339  Sat May 30 07:55:06 PDT 2009  NO_QUERY   \n",
       "2  Positiva  1978132662  Sat May 30 22:31:29 PDT 2009  NO_QUERY   \n",
       "3  Negativa  1679901725  Sat May 02 10:26:43 PDT 2009  NO_QUERY   \n",
       "4   Neutral  2055154954  Sat Jun 06 08:48:06 PDT 2009  NO_QUERY   \n",
       "\n",
       "              user                                               text  \\\n",
       "0          bexodus  @MissScion Fell asleep around 9p last night wo...   \n",
       "1       sazmataz_x  @katie_andhearts going in town later to get my...   \n",
       "2           Deasoy                                         happy day    \n",
       "3       SashaPanda                         Tummy Hurts  Stupid Stress   \n",
       "4  LianeGentrySkye  @jodywallace  Are you at the LF event?  I have...   \n",
       "\n",
       "                                           procesado  Polaridad  Subjetividad  \\\n",
       "0  ['fell', 'asleep', 'around', 'last', 'night', ...  -0.016667      0.488889   \n",
       "1  ['going', 'town', 'late', 'get', 'prom', 'shoe...   0.250000      0.650000   \n",
       "2                                   ['happy', 'day']   0.800000      1.000000   \n",
       "3             ['tummy', 'hurts', 'stupid', 'stress']  -0.800000      1.000000   \n",
       "4                                  ['event', 'seen']   0.000000      0.000000   \n",
       "\n",
       "   palabras  \n",
       "0        26  \n",
       "1        14  \n",
       "2         2  \n",
       "3         4  \n",
       "4        11  "
      ]
     },
     "execution_count": 3,
     "metadata": {},
     "output_type": "execute_result"
    }
   ],
   "source": [
    "sent= pd.read_csv(\"output/final_tweets.csv\")\n",
    "sent.head()"
   ]
  },
  {
   "cell_type": "code",
   "execution_count": 6,
   "metadata": {},
   "outputs": [
    {
     "data": {
      "text/html": [
       "<div>\n",
       "<style scoped>\n",
       "    .dataframe tbody tr th:only-of-type {\n",
       "        vertical-align: middle;\n",
       "    }\n",
       "\n",
       "    .dataframe tbody tr th {\n",
       "        vertical-align: top;\n",
       "    }\n",
       "\n",
       "    .dataframe thead th {\n",
       "        text-align: right;\n",
       "    }\n",
       "</style>\n",
       "<table border=\"1\" class=\"dataframe\">\n",
       "  <thead>\n",
       "    <tr style=\"text-align: right;\">\n",
       "      <th></th>\n",
       "      <th>Label_enc</th>\n",
       "    </tr>\n",
       "  </thead>\n",
       "  <tbody>\n",
       "    <tr>\n",
       "      <th>0</th>\n",
       "      <td>0</td>\n",
       "    </tr>\n",
       "    <tr>\n",
       "      <th>1</th>\n",
       "      <td>2</td>\n",
       "    </tr>\n",
       "    <tr>\n",
       "      <th>2</th>\n",
       "      <td>2</td>\n",
       "    </tr>\n",
       "    <tr>\n",
       "      <th>3</th>\n",
       "      <td>0</td>\n",
       "    </tr>\n",
       "    <tr>\n",
       "      <th>4</th>\n",
       "      <td>1</td>\n",
       "    </tr>\n",
       "  </tbody>\n",
       "</table>\n",
       "</div>"
      ],
      "text/plain": [
       "   Label_enc\n",
       "0          0\n",
       "1          2\n",
       "2          2\n",
       "3          0\n",
       "4          1"
      ]
     },
     "metadata": {},
     "output_type": "display_data"
    }
   ],
   "source": [
    "le = LabelEncoder()\n",
    "sent[\"Label_enc\"] = le.fit_transform(sent[\"target\"])\n",
    "\n",
    "# Display the encoded labels\n",
    "display(sent[[\"Label_enc\"]].head())\n",
    "\n",
    "# Select the features and the target\n",
    "X = sent['procesado']\n",
    "y = sent[\"Label_enc\"]"
   ]
  },
  {
   "cell_type": "code",
   "execution_count": 7,
   "metadata": {},
   "outputs": [],
   "source": [
    "X_train, X_test, y_train, y_test = train_test_split(X, y, test_size=0.2, random_state=42, stratify=y)"
   ]
  },
  {
   "cell_type": "code",
   "execution_count": 8,
   "metadata": {},
   "outputs": [
    {
     "name": "stdout",
     "output_type": "stream",
     "text": [
      "Accuracy: 0.715\n"
     ]
    }
   ],
   "source": [
    "tfidfstops=stopwords.words('english')\n",
    "vectorizer = TfidfVectorizer(max_features=5000, stop_words= tfidfstops)\n",
    "\n",
    "# Create the tf-idf vectorizer\n",
    "model_vectorizer = TfidfVectorizer()\n",
    "\n",
    "# First fit the vectorizer with our training set\n",
    "tfidf_train = vectorizer.fit_transform(X_train)\n",
    "\n",
    "# Now we can fit our test data with the same vectorizer\n",
    "tfidf_test = vectorizer.transform(X_test)\n",
    "\n",
    "# Initialize the Bernoulli Naive Bayes classifier\n",
    "nb = BernoulliNB()\n",
    "\n",
    "# Fit the model\n",
    "nb.fit(tfidf_train, y_train)\n",
    "\n",
    "# Print the accuracy score\n",
    "best_accuracy = cross_val_score(nb, tfidf_test, y_test, cv=10, scoring='accuracy').max()\n",
    "print(\"Accuracy:\",best_accuracy)"
   ]
  },
  {
   "cell_type": "code",
   "execution_count": 9,
   "metadata": {},
   "outputs": [
    {
     "name": "stdout",
     "output_type": "stream",
     "text": [
      "Confusion Matrix\n",
      "Matriz 3x3 donde se ven los tweets que se catalogaron erroneamente\n",
      "\n",
      "[[230  87 108]\n",
      " [ 16 668  54]\n",
      " [ 26  52 759]]\n",
      "\n",
      "\n",
      "Classification Report\n",
      "\n",
      "              precision    recall  f1-score   support\n",
      "\n",
      "           0       0.85      0.54      0.66       425\n",
      "           1       0.83      0.91      0.86       738\n",
      "           2       0.82      0.91      0.86       837\n",
      "\n",
      "    accuracy                           0.83      2000\n",
      "   macro avg       0.83      0.78      0.80      2000\n",
      "weighted avg       0.83      0.83      0.82      2000\n",
      "\n"
     ]
    }
   ],
   "source": [
    "y_pred = nb.predict(tfidf_test)\n",
    "\n",
    "# Print the Confusion Matrix\n",
    "cm = confusion_matrix(y_test, y_pred)\n",
    "print(\"Confusion Matrix\\nMatriz 3x3 donde se ven los tweets que se catalogaron erroneamente\\n\")\n",
    "print(cm)\n",
    "\n",
    "# Print the Classification Report\n",
    "cr = classification_report(y_test, y_pred)\n",
    "print(\"\\n\\nClassification Report\\n\")\n",
    "print(cr)"
   ]
  },
  {
   "cell_type": "code",
   "execution_count": 10,
   "metadata": {},
   "outputs": [
    {
     "ename": "FileNotFoundError",
     "evalue": "[Errno 2] No such file or directory: './Outputs/model.pkl'",
     "output_type": "error",
     "traceback": [
      "\u001b[0;31m---------------------------------------------------------------------------\u001b[0m",
      "\u001b[0;31mFileNotFoundError\u001b[0m                         Traceback (most recent call last)",
      "\u001b[0;32m<ipython-input-10-0cf3e815c374>\u001b[0m in \u001b[0;36m<module>\u001b[0;34m\u001b[0m\n\u001b[0;32m----> 1\u001b[0;31m \u001b[0mpickle\u001b[0m\u001b[0;34m.\u001b[0m\u001b[0mdump\u001b[0m\u001b[0;34m(\u001b[0m\u001b[0mnb\u001b[0m\u001b[0;34m,\u001b[0m \u001b[0mopen\u001b[0m\u001b[0;34m(\u001b[0m\u001b[0;34m\"./Outputs/model.pkl\"\u001b[0m\u001b[0;34m,\u001b[0m \u001b[0;34m'wb'\u001b[0m\u001b[0;34m)\u001b[0m\u001b[0;34m)\u001b[0m\u001b[0;34m\u001b[0m\u001b[0;34m\u001b[0m\u001b[0m\n\u001b[0m",
      "\u001b[0;31mFileNotFoundError\u001b[0m: [Errno 2] No such file or directory: './Outputs/model.pkl'"
     ]
    }
   ],
   "source": [
    "pickle.dump(nb, open(\"./Outputs/model.pkl\", 'wb'))"
   ]
  },
  {
   "cell_type": "code",
   "execution_count": 15,
   "metadata": {},
   "outputs": [],
   "source": [
    "# DATASET\n",
    "DATASET_COLUMNS = [\"target\", \"ids\", \"date\", \"flag\", \"user\", \"text\"]\n",
    "DATASET_ENCODING = \"ISO-8859-1\"\n",
    "TRAIN_SIZE = 0.8\n",
    "\n",
    "# TEXT CLENAING\n",
    "TEXT_CLEANING_RE = \"@\\S+|https?:\\S+|http?:\\S|[^A-Za-z0-9]+\"\n",
    "\n",
    "# WORD2VEC \n",
    "W2V_SIZE = 300\n",
    "W2V_WINDOW = 7\n",
    "W2V_EPOCH = 32\n",
    "W2V_MIN_COUNT = 10\n",
    "\n",
    "# KERAS\n",
    "SEQUENCE_LENGTH = 300\n",
    "EPOCHS = 8\n",
    "BATCH_SIZE = 1024\n",
    "\n",
    "# SENTIMENT\n",
    "POSITIVE = \"POSITIVE\"\n",
    "NEGATIVE = \"NEGATIVE\"\n",
    "NEUTRAL = \"NEUTRAL\"\n",
    "SENTIMENT_THRESHOLDS = (0.4, 0.7)\n",
    "\n",
    "# EXPORT\n",
    "#KERAS_MODEL = \"model.h5\"\n",
    "#WORD2VEC_MODEL = \"model.w2v\"\n",
    "#TOKENIZER_MODEL = \"tokenizer.pkl\"\n",
    "#ENCODER_MODEL = \"encoder.pkl\""
   ]
  },
  {
   "cell_type": "code",
   "execution_count": 19,
   "metadata": {},
   "outputs": [
    {
     "name": "stdout",
     "output_type": "stream",
     "text": [
      "TRAIN size: 8000\n",
      "TEST size: 2000\n"
     ]
    }
   ],
   "source": [
    "train, test = train_test_split(sent, test_size=1-TRAIN_SIZE, random_state=42)\n",
    "print(\"TRAIN size:\", len(df_train))\n",
    "print(\"TEST size:\", len(df_test))"
   ]
  },
  {
   "cell_type": "code",
   "execution_count": 22,
   "metadata": {},
   "outputs": [
    {
     "data": {
      "text/html": [
       "<div>\n",
       "<style scoped>\n",
       "    .dataframe tbody tr th:only-of-type {\n",
       "        vertical-align: middle;\n",
       "    }\n",
       "\n",
       "    .dataframe tbody tr th {\n",
       "        vertical-align: top;\n",
       "    }\n",
       "\n",
       "    .dataframe thead th {\n",
       "        text-align: right;\n",
       "    }\n",
       "</style>\n",
       "<table border=\"1\" class=\"dataframe\">\n",
       "  <thead>\n",
       "    <tr style=\"text-align: right;\">\n",
       "      <th></th>\n",
       "      <th>target</th>\n",
       "      <th>ids</th>\n",
       "      <th>date</th>\n",
       "      <th>flag</th>\n",
       "      <th>user</th>\n",
       "      <th>text</th>\n",
       "      <th>procesado</th>\n",
       "      <th>Polaridad</th>\n",
       "      <th>Subjetividad</th>\n",
       "      <th>palabras</th>\n",
       "      <th>Label_enc</th>\n",
       "      <th>nLabel</th>\n",
       "    </tr>\n",
       "  </thead>\n",
       "  <tbody>\n",
       "    <tr>\n",
       "      <th>9254</th>\n",
       "      <td>Neutral</td>\n",
       "      <td>2070190399</td>\n",
       "      <td>Sun Jun 07 17:15:09 PDT 2009</td>\n",
       "      <td>NO_QUERY</td>\n",
       "      <td>Aromantic</td>\n",
       "      <td>Who needs whips &amp;amp; chains when you have cak...</td>\n",
       "      <td>['needs', 'whips', 'amp', 'chains', 'cake']</td>\n",
       "      <td>0.0</td>\n",
       "      <td>0.00</td>\n",
       "      <td>9</td>\n",
       "      <td>1</td>\n",
       "      <td>0</td>\n",
       "    </tr>\n",
       "    <tr>\n",
       "      <th>1561</th>\n",
       "      <td>Positiva</td>\n",
       "      <td>1823352144</td>\n",
       "      <td>Sat May 16 21:44:41 PDT 2009</td>\n",
       "      <td>NO_QUERY</td>\n",
       "      <td>KeedyKat</td>\n",
       "      <td>@SouthernBell07 u went to the ol' school for r...</td>\n",
       "      <td>['went', 'school', 'real', 'one', 'listening',...</td>\n",
       "      <td>0.2</td>\n",
       "      <td>0.30</td>\n",
       "      <td>20</td>\n",
       "      <td>2</td>\n",
       "      <td>1</td>\n",
       "    </tr>\n",
       "    <tr>\n",
       "      <th>1670</th>\n",
       "      <td>Negativa</td>\n",
       "      <td>1677113394</td>\n",
       "      <td>Sat May 02 00:30:57 PDT 2009</td>\n",
       "      <td>NO_QUERY</td>\n",
       "      <td>love2live10101</td>\n",
       "      <td>@Traphik Aww I'm sorry! I voted for u! @annspa...</td>\n",
       "      <td>['aww', 'sorry', 'voted', 'yesterday', 'droppe...</td>\n",
       "      <td>-0.1</td>\n",
       "      <td>0.95</td>\n",
       "      <td>27</td>\n",
       "      <td>0</td>\n",
       "      <td>-1</td>\n",
       "    </tr>\n",
       "    <tr>\n",
       "      <th>6087</th>\n",
       "      <td>Neutral</td>\n",
       "      <td>2178448548</td>\n",
       "      <td>Mon Jun 15 07:43:00 PDT 2009</td>\n",
       "      <td>NO_QUERY</td>\n",
       "      <td>liannebigworld</td>\n",
       "      <td>aargh I want to go home but it's raining and I...</td>\n",
       "      <td>['aargh', 'want', 'home', 'raining', 'bring', ...</td>\n",
       "      <td>0.0</td>\n",
       "      <td>0.00</td>\n",
       "      <td>25</td>\n",
       "      <td>1</td>\n",
       "      <td>0</td>\n",
       "    </tr>\n",
       "    <tr>\n",
       "      <th>6669</th>\n",
       "      <td>Negativa</td>\n",
       "      <td>2253553289</td>\n",
       "      <td>Sat Jun 20 08:21:43 PDT 2009</td>\n",
       "      <td>NO_QUERY</td>\n",
       "      <td>bahramd</td>\n",
       "      <td>I'm  so tired</td>\n",
       "      <td>['tired']</td>\n",
       "      <td>-0.4</td>\n",
       "      <td>0.70</td>\n",
       "      <td>3</td>\n",
       "      <td>0</td>\n",
       "      <td>-1</td>\n",
       "    </tr>\n",
       "  </tbody>\n",
       "</table>\n",
       "</div>"
      ],
      "text/plain": [
       "        target         ids                          date      flag  \\\n",
       "9254   Neutral  2070190399  Sun Jun 07 17:15:09 PDT 2009  NO_QUERY   \n",
       "1561  Positiva  1823352144  Sat May 16 21:44:41 PDT 2009  NO_QUERY   \n",
       "1670  Negativa  1677113394  Sat May 02 00:30:57 PDT 2009  NO_QUERY   \n",
       "6087   Neutral  2178448548  Mon Jun 15 07:43:00 PDT 2009  NO_QUERY   \n",
       "6669  Negativa  2253553289  Sat Jun 20 08:21:43 PDT 2009  NO_QUERY   \n",
       "\n",
       "                user                                               text  \\\n",
       "9254       Aromantic  Who needs whips &amp; chains when you have cak...   \n",
       "1561        KeedyKat  @SouthernBell07 u went to the ol' school for r...   \n",
       "1670  love2live10101  @Traphik Aww I'm sorry! I voted for u! @annspa...   \n",
       "6087  liannebigworld  aargh I want to go home but it's raining and I...   \n",
       "6669         bahramd                                     I'm  so tired    \n",
       "\n",
       "                                              procesado  Polaridad  \\\n",
       "9254        ['needs', 'whips', 'amp', 'chains', 'cake']        0.0   \n",
       "1561  ['went', 'school', 'real', 'one', 'listening',...        0.2   \n",
       "1670  ['aww', 'sorry', 'voted', 'yesterday', 'droppe...       -0.1   \n",
       "6087  ['aargh', 'want', 'home', 'raining', 'bring', ...        0.0   \n",
       "6669                                          ['tired']       -0.4   \n",
       "\n",
       "      Subjetividad  palabras  Label_enc  nLabel  \n",
       "9254          0.00         9          1       0  \n",
       "1561          0.30        20          2       1  \n",
       "1670          0.95        27          0      -1  \n",
       "6087          0.00        25          1       0  \n",
       "6669          0.70         3          0      -1  "
      ]
     },
     "execution_count": 22,
     "metadata": {},
     "output_type": "execute_result"
    }
   ],
   "source": [
    "train.head()"
   ]
  },
  {
   "cell_type": "code",
   "execution_count": 21,
   "metadata": {},
   "outputs": [
    {
     "name": "stderr",
     "output_type": "stream",
     "text": [
      "<ipython-input-21-d29626858213>:9: SettingWithCopyWarning: \n",
      "A value is trying to be set on a copy of a slice from a DataFrame.\n",
      "Try using .loc[row_indexer,col_indexer] = value instead\n",
      "\n",
      "See the caveats in the documentation: https://pandas.pydata.org/pandas-docs/stable/user_guide/indexing.html#returning-a-view-versus-a-copy\n",
      "  train[\"nLabel\"] = train[\"target\"].apply(numerar_polaridad)\n",
      "<ipython-input-21-d29626858213>:10: SettingWithCopyWarning: \n",
      "A value is trying to be set on a copy of a slice from a DataFrame.\n",
      "Try using .loc[row_indexer,col_indexer] = value instead\n",
      "\n",
      "See the caveats in the documentation: https://pandas.pydata.org/pandas-docs/stable/user_guide/indexing.html#returning-a-view-versus-a-copy\n",
      "  test[\"nLabel\"] = test[\"target\"].apply(numerar_polaridad)\n"
     ]
    }
   ],
   "source": [
    "def numerar_polaridad(polaridad):\n",
    "    if polaridad == 'Positiva':\n",
    "        return 1\n",
    "    if polaridad == \"Neutral\":\n",
    "        return 0\n",
    "    if polaridad == \"Negativa\":\n",
    "        return -1\n",
    "\n",
    "train[\"nLabel\"] = train[\"target\"].apply(numerar_polaridad)\n",
    "test[\"nLabel\"] = test[\"target\"].apply(numerar_polaridad)"
   ]
  },
  {
   "cell_type": "code",
   "execution_count": 24,
   "metadata": {},
   "outputs": [
    {
     "data": {
      "text/plain": [
       "Index(['target', 'ids', 'date', 'flag', 'user', 'text', 'procesado',\n",
       "       'Polaridad', 'Subjetividad', 'palabras', 'Label_enc', 'nLabel'],\n",
       "      dtype='object')"
      ]
     },
     "execution_count": 24,
     "metadata": {},
     "output_type": "execute_result"
    }
   ],
   "source": [
    "train.columns"
   ]
  },
  {
   "cell_type": "code",
   "execution_count": 26,
   "metadata": {},
   "outputs": [
    {
     "data": {
      "text/html": [
       "<div>\n",
       "<style scoped>\n",
       "    .dataframe tbody tr th:only-of-type {\n",
       "        vertical-align: middle;\n",
       "    }\n",
       "\n",
       "    .dataframe tbody tr th {\n",
       "        vertical-align: top;\n",
       "    }\n",
       "\n",
       "    .dataframe thead th {\n",
       "        text-align: right;\n",
       "    }\n",
       "</style>\n",
       "<table border=\"1\" class=\"dataframe\">\n",
       "  <thead>\n",
       "    <tr style=\"text-align: right;\">\n",
       "      <th></th>\n",
       "      <th>user</th>\n",
       "      <th>text</th>\n",
       "      <th>procesado</th>\n",
       "      <th>Label_enc</th>\n",
       "      <th>nLabel</th>\n",
       "    </tr>\n",
       "  </thead>\n",
       "  <tbody>\n",
       "    <tr>\n",
       "      <th>9254</th>\n",
       "      <td>Aromantic</td>\n",
       "      <td>Who needs whips &amp;amp; chains when you have cak...</td>\n",
       "      <td>['needs', 'whips', 'amp', 'chains', 'cake']</td>\n",
       "      <td>1</td>\n",
       "      <td>0</td>\n",
       "    </tr>\n",
       "    <tr>\n",
       "      <th>1561</th>\n",
       "      <td>KeedyKat</td>\n",
       "      <td>@SouthernBell07 u went to the ol' school for r...</td>\n",
       "      <td>['went', 'school', 'real', 'one', 'listening',...</td>\n",
       "      <td>2</td>\n",
       "      <td>1</td>\n",
       "    </tr>\n",
       "    <tr>\n",
       "      <th>1670</th>\n",
       "      <td>love2live10101</td>\n",
       "      <td>@Traphik Aww I'm sorry! I voted for u! @annspa...</td>\n",
       "      <td>['aww', 'sorry', 'voted', 'yesterday', 'droppe...</td>\n",
       "      <td>0</td>\n",
       "      <td>-1</td>\n",
       "    </tr>\n",
       "    <tr>\n",
       "      <th>6087</th>\n",
       "      <td>liannebigworld</td>\n",
       "      <td>aargh I want to go home but it's raining and I...</td>\n",
       "      <td>['aargh', 'want', 'home', 'raining', 'bring', ...</td>\n",
       "      <td>1</td>\n",
       "      <td>0</td>\n",
       "    </tr>\n",
       "    <tr>\n",
       "      <th>6669</th>\n",
       "      <td>bahramd</td>\n",
       "      <td>I'm  so tired</td>\n",
       "      <td>['tired']</td>\n",
       "      <td>0</td>\n",
       "      <td>-1</td>\n",
       "    </tr>\n",
       "    <tr>\n",
       "      <th>...</th>\n",
       "      <td>...</td>\n",
       "      <td>...</td>\n",
       "      <td>...</td>\n",
       "      <td>...</td>\n",
       "      <td>...</td>\n",
       "    </tr>\n",
       "    <tr>\n",
       "      <th>5734</th>\n",
       "      <td>drea89</td>\n",
       "      <td>its super hot and i have a headache</td>\n",
       "      <td>['super', 'hot', 'headache']</td>\n",
       "      <td>2</td>\n",
       "      <td>1</td>\n",
       "    </tr>\n",
       "    <tr>\n",
       "      <th>5191</th>\n",
       "      <td>mofabul0us</td>\n",
       "      <td>Wow I was winning beer pong but no longer</td>\n",
       "      <td>['wow', 'winning', 'beer', 'pong', 'long']</td>\n",
       "      <td>2</td>\n",
       "      <td>1</td>\n",
       "    </tr>\n",
       "    <tr>\n",
       "      <th>5390</th>\n",
       "      <td>NKANGEL74</td>\n",
       "      <td>@troykids yay that's great</td>\n",
       "      <td>['yay', 'great']</td>\n",
       "      <td>2</td>\n",
       "      <td>1</td>\n",
       "    </tr>\n",
       "    <tr>\n",
       "      <th>860</th>\n",
       "      <td>paulinewood</td>\n",
       "      <td>My Mum is coming home from hospital today afte...</td>\n",
       "      <td>['mum', 'coming', 'home', 'hospital', 'today',...</td>\n",
       "      <td>2</td>\n",
       "      <td>1</td>\n",
       "    </tr>\n",
       "    <tr>\n",
       "      <th>7270</th>\n",
       "      <td>newyorklights</td>\n",
       "      <td>@ahluscu12 andreea.  you need an apple</td>\n",
       "      <td>['andreea', 'need', 'apple']</td>\n",
       "      <td>1</td>\n",
       "      <td>0</td>\n",
       "    </tr>\n",
       "  </tbody>\n",
       "</table>\n",
       "<p>8000 rows × 5 columns</p>\n",
       "</div>"
      ],
      "text/plain": [
       "                user                                               text  \\\n",
       "9254       Aromantic  Who needs whips &amp; chains when you have cak...   \n",
       "1561        KeedyKat  @SouthernBell07 u went to the ol' school for r...   \n",
       "1670  love2live10101  @Traphik Aww I'm sorry! I voted for u! @annspa...   \n",
       "6087  liannebigworld  aargh I want to go home but it's raining and I...   \n",
       "6669         bahramd                                     I'm  so tired    \n",
       "...              ...                                                ...   \n",
       "5734          drea89               its super hot and i have a headache    \n",
       "5191      mofabul0us         Wow I was winning beer pong but no longer    \n",
       "5390       NKANGEL74                        @troykids yay that's great    \n",
       "860      paulinewood  My Mum is coming home from hospital today afte...   \n",
       "7270   newyorklights            @ahluscu12 andreea.  you need an apple    \n",
       "\n",
       "                                              procesado  Label_enc  nLabel  \n",
       "9254        ['needs', 'whips', 'amp', 'chains', 'cake']          1       0  \n",
       "1561  ['went', 'school', 'real', 'one', 'listening',...          2       1  \n",
       "1670  ['aww', 'sorry', 'voted', 'yesterday', 'droppe...          0      -1  \n",
       "6087  ['aargh', 'want', 'home', 'raining', 'bring', ...          1       0  \n",
       "6669                                          ['tired']          0      -1  \n",
       "...                                                 ...        ...     ...  \n",
       "5734                       ['super', 'hot', 'headache']          2       1  \n",
       "5191         ['wow', 'winning', 'beer', 'pong', 'long']          2       1  \n",
       "5390                                   ['yay', 'great']          2       1  \n",
       "860   ['mum', 'coming', 'home', 'hospital', 'today',...          2       1  \n",
       "7270                       ['andreea', 'need', 'apple']          1       0  \n",
       "\n",
       "[8000 rows x 5 columns]"
      ]
     },
     "execution_count": 26,
     "metadata": {},
     "output_type": "execute_result"
    }
   ],
   "source": [
    "train.drop(columns = ['target', 'ids', 'date', 'flag','Polaridad', 'Subjetividad', 'palabras'])"
   ]
  },
  {
   "cell_type": "code",
   "execution_count": 27,
   "metadata": {},
   "outputs": [
    {
     "name": "stdout",
     "output_type": "stream",
     "text": [
      "Fitting 10 folds for each of 8 candidates, totalling 80 fits\n"
     ]
    },
    {
     "name": "stderr",
     "output_type": "stream",
     "text": [
      "[Parallel(n_jobs=1)]: Using backend SequentialBackend with 1 concurrent workers.\n"
     ]
    },
    {
     "name": "stdout",
     "output_type": "stream",
     "text": [
      "\n",
      "Best Model: 0.588125 using {'bow__ngram_range': (1, 1), 'classifier__alpha': 0.01, 'tfidf__use_idf': False}\n",
      "\n",
      "\n",
      "Mean: 0.563125 Stdev:(0.034055) with: {'bow__ngram_range': (1, 1), 'classifier__alpha': 0.01, 'tfidf__use_idf': True}\n",
      "Mean: 0.588125 Stdev:(0.032410) with: {'bow__ngram_range': (1, 1), 'classifier__alpha': 0.01, 'tfidf__use_idf': False}\n",
      "Mean: 0.555000 Stdev:(0.036954) with: {'bow__ngram_range': (1, 1), 'classifier__alpha': 0.001, 'tfidf__use_idf': True}\n",
      "Mean: 0.575000 Stdev:(0.030362) with: {'bow__ngram_range': (1, 1), 'classifier__alpha': 0.001, 'tfidf__use_idf': False}\n",
      "Mean: 0.559375 Stdev:(0.031156) with: {'bow__ngram_range': (1, 2), 'classifier__alpha': 0.01, 'tfidf__use_idf': True}\n",
      "Mean: 0.585000 Stdev:(0.033680) with: {'bow__ngram_range': (1, 2), 'classifier__alpha': 0.01, 'tfidf__use_idf': False}\n",
      "Mean: 0.552500 Stdev:(0.038345) with: {'bow__ngram_range': (1, 2), 'classifier__alpha': 0.001, 'tfidf__use_idf': True}\n",
      "Mean: 0.570000 Stdev:(0.028614) with: {'bow__ngram_range': (1, 2), 'classifier__alpha': 0.001, 'tfidf__use_idf': False}\n"
     ]
    },
    {
     "name": "stderr",
     "output_type": "stream",
     "text": [
      "[Parallel(n_jobs=1)]: Done  80 out of  80 | elapsed:    3.7s finished\n"
     ]
    }
   ],
   "source": [
    "from sklearn.naive_bayes import MultinomialNB\n",
    "X_train, X_test, y_train, y_test = train_test_split(train['text'][:2000], train['nLabel'][:2000], test_size=0.2)\n",
    "\n",
    "\n",
    "# create pipeline\n",
    "pipeline = Pipeline([\n",
    "    ('bow', CountVectorizer(strip_accents='ascii',\n",
    "                            stop_words='english',\n",
    "                            lowercase=True)),  # strings to token integer counts\n",
    "    ('tfidf', TfidfTransformer()),  # integer counts to weighted TF-IDF scores\n",
    "    ('classifier', MultinomialNB()),  # train on TF-IDF vectors w/ Naive Bayes classifier\n",
    "])\n",
    "\n",
    "# this is where we define the values for GridSearchCV to iterate over\n",
    "parameters = {'bow__ngram_range': [(1, 1), (1, 2)],\n",
    "              'tfidf__use_idf': (True, False),\n",
    "              'classifier__alpha': (1e-2, 1e-3),\n",
    "             }\n",
    "\n",
    "# do 10-fold cross validation for each of the 6 possible combinations of the above params\n",
    "grid = GridSearchCV(pipeline, cv=10, param_grid=parameters, verbose=1)\n",
    "grid.fit(X_train,y_train)\n",
    "\n",
    "# summarize results\n",
    "print(\"\\nBest Model: %f using %s\" % (grid.best_score_, grid.best_params_))\n",
    "print('\\n')\n",
    "means = grid.cv_results_['mean_test_score']\n",
    "stds = grid.cv_results_['std_test_score']\n",
    "params = grid.cv_results_['params']\n",
    "for mean, stdev, param in zip(means, stds, params):\n",
    "    print(\"Mean: %f Stdev:(%f) with: %r\" % (mean, stdev, param))"
   ]
  },
  {
   "cell_type": "code",
   "execution_count": 29,
   "metadata": {},
   "outputs": [
    {
     "data": {
      "text/plain": [
       "['./input/twitter_sentiment.pkl']"
      ]
     },
     "execution_count": 29,
     "metadata": {},
     "output_type": "execute_result"
    }
   ],
   "source": [
    "import joblib\n",
    "joblib.dump(grid, \"./input/twitter_sentiment.pkl\")"
   ]
  },
  {
   "cell_type": "code",
   "execution_count": 30,
   "metadata": {},
   "outputs": [
    {
     "name": "stdout",
     "output_type": "stream",
     "text": [
      "accuracy score:  0.65\n",
      "\n",
      "\n",
      "confusion matrix: \n",
      " [[ 43  19  26]\n",
      " [ 16  81  54]\n",
      " [ 11  14 136]]\n",
      "\n",
      "\n",
      "              precision    recall  f1-score   support\n",
      "\n",
      "          -1       0.61      0.49      0.54        88\n",
      "           0       0.71      0.54      0.61       151\n",
      "           1       0.63      0.84      0.72       161\n",
      "\n",
      "    accuracy                           0.65       400\n",
      "   macro avg       0.65      0.62      0.63       400\n",
      "weighted avg       0.66      0.65      0.64       400\n",
      "\n"
     ]
    }
   ],
   "source": [
    "# load from file and predict using the best configs found in the CV step\n",
    "model_NB = joblib.load(\"./input/twitter_sentiment.pkl\")\n",
    "\n",
    "# get predictions from best model above\n",
    "y_preds = model_NB.predict(X_test)\n",
    "\n",
    "print('accuracy score: ',accuracy_score(y_test, y_preds))\n",
    "print('\\n')\n",
    "print('confusion matrix: \\n',confusion_matrix(y_test,y_preds))\n",
    "print('\\n')\n",
    "print(classification_report(y_test, y_preds))"
   ]
  },
  {
   "cell_type": "code",
   "execution_count": 32,
   "metadata": {},
   "outputs": [
    {
     "data": {
      "text/plain": [
       "(10000, 12)"
      ]
     },
     "execution_count": 32,
     "metadata": {},
     "output_type": "execute_result"
    }
   ],
   "source": [
    "tweet_preds = model_NB.predict(sent['text'])\n",
    "\n",
    "# append predictions to dataframe\n",
    "df_tweet_preds = sent.copy()\n",
    "df_tweet_preds['predictions'] = tweet_preds\n",
    "df_tweet_preds.shape"
   ]
  },
  {
   "cell_type": "code",
   "execution_count": 34,
   "metadata": {},
   "outputs": [
    {
     "name": "stdout",
     "output_type": "stream",
     "text": [
      "-1 -- @dreambunny34d well how can we get your horny half full?  \n",
      "\n",
      "1 -- awww tireeeed,night ppl  \n",
      "\n",
      "1 -- Gonna Make A Video With Ash's New Song  \n",
      "\n",
      "1 -- @mileycyrus Please do another concert in Manchester in UK. Could not buy tickets and really me and my mates want to go your concert.  \n",
      "\n",
      "1 -- @MzEsha lol ok great cutie  \n",
      "\n",
      "1 -- maths exam didn't go well. i think i have a lot mistakes   A really busy day in school today. so i'll tweet u this eveneing. keep tweeting \n",
      "\n",
      "1 -- @dgritsko      travel safely! \n",
      "\n",
      "1 -- @RSD_Sufferer Thank you! lol  \n",
      "\n",
      "1 -- @NurseHunter you just need to register. Then email your blog to victoria.thompson@Emap.com - look forward to it  \n",
      "\n",
      "0 -- @wickedgoddess Happened to me too. Boo. No Blizzcon.  \n",
      "\n",
      "1 -- tmrw night The DOMINATION starts up a new week 6-7pm est.   \n",
      "\n",
      "0 -- shower, charity event, home.  textt itt. &lt;3 \n",
      "\n",
      "1 -- PRAISE THE LORD!!!!!  i love the lord! i really do  x \n",
      "\n",
      "1 -- These fire alarm and sprinkler people are the slowest people in the world. 2 hours later and still not done.  \n",
      "\n",
      "0 -- still learn twitter-ing.. gimana sih? nga ngerti  \n",
      "\n",
      "0 -- No way, just hit 2000 followers. Who woulda thunk it!  \n",
      "\n",
      "0 -- @lozzyjay  no,but i would like to follow you  \n",
      "\n",
      "1 -- @tphilipps Yeah, I got an email from the actual LaboratoryLogoContest@gmail, asking for my personal contact information. I am so excited!  \n",
      "\n",
      "1 -- @ashcashrain hey ashley, guess i didn't tell you yet but my padres r moving to st louis cuz my dad is starting a new job there, so i gtg2  \n",
      "\n",
      "0 -- @3thbi 3asa ma shar bro?  \n",
      "\n"
     ]
    }
   ],
   "source": [
    "import random\n",
    "# print text and sentiment\n",
    "\n",
    "index = random.sample(range(tweet_preds.shape[0]), 20)\n",
    "for text, sentiment in zip(df_tweet_preds.text[index],\n",
    "                           df_tweet_preds.predictions[index]):\n",
    "    print (sentiment, '--', text, '\\n')"
   ]
  },
  {
   "cell_type": "code",
   "execution_count": 71,
   "metadata": {},
   "outputs": [],
   "source": [
    "from vaderSentiment.vaderSentiment import SentimentIntensityAnalyzer\n",
    "\n",
    "analyser = SentimentIntensityAnalyzer()\n",
    "\n",
    "def polarity_scores_all(tweet):\n",
    "  '''\n",
    "  Takes string of text to:\n",
    "  1. Gets sentiment metrics\n",
    "  2. Returns negative, neutral, positive \n",
    "  and compound scores as lists.\n",
    "  '''\n",
    "  neg, neu, pos, compound = [], [], [], []\n",
    "  analyser = SentimentIntensityAnalyzer()\n",
    "  \n",
    "  for message in tweet:\n",
    "    dict_ = analyser.polarity_scores(message)\n",
    "    neg.append(dict_['neg'])\n",
    "    neu.append(dict_['neu'])\n",
    "    pos.append(dict_['pos'])\n",
    "    compound.append(dict_['compound'])\n",
    "  \n",
    "  return neg, neu, pos, compound"
   ]
  },
  {
   "cell_type": "code",
   "execution_count": 72,
   "metadata": {},
   "outputs": [
    {
     "ename": "TypeError",
     "evalue": "'float' object is not iterable",
     "output_type": "error",
     "traceback": [
      "\u001b[0;31m---------------------------------------------------------------------------\u001b[0m",
      "\u001b[0;31mTypeError\u001b[0m                                 Traceback (most recent call last)",
      "\u001b[0;32m<ipython-input-72-848d852c639e>\u001b[0m in \u001b[0;36m<module>\u001b[0;34m\u001b[0m\n\u001b[0;32m----> 1\u001b[0;31m \u001b[0mall_scores\u001b[0m \u001b[0;34m=\u001b[0m \u001b[0mpolarity_scores_all\u001b[0m\u001b[0;34m(\u001b[0m\u001b[0mtrain\u001b[0m\u001b[0;34m.\u001b[0m\u001b[0mprocesado\u001b[0m\u001b[0;34m.\u001b[0m\u001b[0mvalues\u001b[0m\u001b[0;34m)\u001b[0m\u001b[0;34m\u001b[0m\u001b[0;34m\u001b[0m\u001b[0m\n\u001b[0m\u001b[1;32m      2\u001b[0m \u001b[0mtrain\u001b[0m\u001b[0;34m[\u001b[0m\u001b[0;34m'neg_scores'\u001b[0m\u001b[0;34m]\u001b[0m \u001b[0;34m=\u001b[0m \u001b[0mall_scores\u001b[0m\u001b[0;34m[\u001b[0m\u001b[0;36m0\u001b[0m\u001b[0;34m]\u001b[0m\u001b[0;34m\u001b[0m\u001b[0;34m\u001b[0m\u001b[0m\n\u001b[1;32m      3\u001b[0m \u001b[0mtrain\u001b[0m\u001b[0;34m[\u001b[0m\u001b[0;34m'neu_scores'\u001b[0m\u001b[0;34m]\u001b[0m \u001b[0;34m=\u001b[0m \u001b[0mall_scores\u001b[0m\u001b[0;34m[\u001b[0m\u001b[0;36m1\u001b[0m\u001b[0;34m]\u001b[0m\u001b[0;34m\u001b[0m\u001b[0;34m\u001b[0m\u001b[0m\n\u001b[1;32m      4\u001b[0m \u001b[0mtrain\u001b[0m\u001b[0;34m[\u001b[0m\u001b[0;34m'pos_scores'\u001b[0m\u001b[0;34m]\u001b[0m \u001b[0;34m=\u001b[0m \u001b[0mall_scores\u001b[0m\u001b[0;34m[\u001b[0m\u001b[0;36m2\u001b[0m\u001b[0;34m]\u001b[0m\u001b[0;34m\u001b[0m\u001b[0;34m\u001b[0m\u001b[0m\n\u001b[1;32m      5\u001b[0m \u001b[0mtrain\u001b[0m\u001b[0;34m[\u001b[0m\u001b[0;34m'compound_scores'\u001b[0m\u001b[0;34m]\u001b[0m \u001b[0;34m=\u001b[0m \u001b[0mall_scores\u001b[0m\u001b[0;34m[\u001b[0m\u001b[0;36m3\u001b[0m\u001b[0;34m]\u001b[0m\u001b[0;34m\u001b[0m\u001b[0;34m\u001b[0m\u001b[0m\n",
      "\u001b[0;32m<ipython-input-71-c5ef374b7eb2>\u001b[0m in \u001b[0;36mpolarity_scores_all\u001b[0;34m(tweet)\u001b[0m\n\u001b[1;32m     14\u001b[0m \u001b[0;34m\u001b[0m\u001b[0m\n\u001b[1;32m     15\u001b[0m   \u001b[0;32mfor\u001b[0m \u001b[0mmessage\u001b[0m \u001b[0;32min\u001b[0m \u001b[0mtweet\u001b[0m\u001b[0;34m:\u001b[0m\u001b[0;34m\u001b[0m\u001b[0;34m\u001b[0m\u001b[0m\n\u001b[0;32m---> 16\u001b[0;31m     \u001b[0mdict_\u001b[0m \u001b[0;34m=\u001b[0m \u001b[0manalyser\u001b[0m\u001b[0;34m.\u001b[0m\u001b[0mpolarity_scores\u001b[0m\u001b[0;34m(\u001b[0m\u001b[0mmessage\u001b[0m\u001b[0;34m)\u001b[0m\u001b[0;34m\u001b[0m\u001b[0;34m\u001b[0m\u001b[0m\n\u001b[0m\u001b[1;32m     17\u001b[0m     \u001b[0mneg\u001b[0m\u001b[0;34m.\u001b[0m\u001b[0mappend\u001b[0m\u001b[0;34m(\u001b[0m\u001b[0mdict_\u001b[0m\u001b[0;34m[\u001b[0m\u001b[0;34m'neg'\u001b[0m\u001b[0;34m]\u001b[0m\u001b[0;34m)\u001b[0m\u001b[0;34m\u001b[0m\u001b[0;34m\u001b[0m\u001b[0m\n\u001b[1;32m     18\u001b[0m     \u001b[0mneu\u001b[0m\u001b[0;34m.\u001b[0m\u001b[0mappend\u001b[0m\u001b[0;34m(\u001b[0m\u001b[0mdict_\u001b[0m\u001b[0;34m[\u001b[0m\u001b[0;34m'neu'\u001b[0m\u001b[0;34m]\u001b[0m\u001b[0;34m)\u001b[0m\u001b[0;34m\u001b[0m\u001b[0;34m\u001b[0m\u001b[0m\n",
      "\u001b[0;32m/usr/local/lib/python3.8/site-packages/vaderSentiment/vaderSentiment.py\u001b[0m in \u001b[0;36mpolarity_scores\u001b[0;34m(self, text)\u001b[0m\n\u001b[1;32m    239\u001b[0m         \u001b[0mtext_no_emoji\u001b[0m \u001b[0;34m=\u001b[0m \u001b[0;34m\"\"\u001b[0m\u001b[0;34m\u001b[0m\u001b[0;34m\u001b[0m\u001b[0m\n\u001b[1;32m    240\u001b[0m         \u001b[0mprev_space\u001b[0m \u001b[0;34m=\u001b[0m \u001b[0;32mTrue\u001b[0m\u001b[0;34m\u001b[0m\u001b[0;34m\u001b[0m\u001b[0m\n\u001b[0;32m--> 241\u001b[0;31m         \u001b[0;32mfor\u001b[0m \u001b[0mchr\u001b[0m \u001b[0;32min\u001b[0m \u001b[0mtext\u001b[0m\u001b[0;34m:\u001b[0m\u001b[0;34m\u001b[0m\u001b[0;34m\u001b[0m\u001b[0m\n\u001b[0m\u001b[1;32m    242\u001b[0m             \u001b[0;32mif\u001b[0m \u001b[0mchr\u001b[0m \u001b[0;32min\u001b[0m \u001b[0mself\u001b[0m\u001b[0;34m.\u001b[0m\u001b[0memojis\u001b[0m\u001b[0;34m:\u001b[0m\u001b[0;34m\u001b[0m\u001b[0;34m\u001b[0m\u001b[0m\n\u001b[1;32m    243\u001b[0m                 \u001b[0;31m# get the textual description\u001b[0m\u001b[0;34m\u001b[0m\u001b[0;34m\u001b[0m\u001b[0;34m\u001b[0m\u001b[0m\n",
      "\u001b[0;31mTypeError\u001b[0m: 'float' object is not iterable"
     ]
    }
   ],
   "source": [
    "all_scores = polarity_scores_all(train.procesado.values)\n",
    "train['neg_scores'] = all_scores[0]\n",
    "train['neu_scores'] = all_scores[1]\n",
    "train['pos_scores'] = all_scores[2]\n",
    "train['compound_scores'] = all_scores[3]\n",
    "\n",
    "train.head(10)"
   ]
  },
  {
   "cell_type": "code",
   "execution_count": 39,
   "metadata": {},
   "outputs": [],
   "source": [
    "pos_family = {  \n",
    "    'NOUN' : ['NN','NNS','NNP'], # Removed 'NNPS'\n",
    "    'PRON' : ['PRP','PRP$','WP'],\n",
    "    'VERB' : ['VB','VBD','VBG','VBN','VBP','VBZ'],\n",
    "    'ADJ' :  ['JJ','JJR','JJS'],\n",
    "    'ADV' : ['RB','RBR','RBS','WRB']\n",
    "}\n",
    "\n",
    "def count_pos_tag(tweets):\n",
    "  '''\n",
    "  Takes string of text to:\n",
    "  1. Processes text and attaches POS tags\n",
    "  2. Input the dictionary of POS tags into a Counter.\n",
    "  2. Returns list of POS tags with occurrence number '''\n",
    "  total_count = []\n",
    "  for s in tweets:\n",
    "    partial_count = {}\n",
    "    s = s.split()\n",
    "    count_pos = Counter(dict(nltk.pos_tag(s)).values())\n",
    "    \n",
    "    for item, value in count_pos.items():\n",
    "      partial_count[item] = partial_count.get(item, 0) + 1\n",
    "            \n",
    "    total_count.append(partial_count)\n",
    "\n",
    "  return total_count"
   ]
  },
  {
   "cell_type": "code",
   "execution_count": 42,
   "metadata": {},
   "outputs": [
    {
     "name": "stderr",
     "output_type": "stream",
     "text": [
      "[nltk_data] Downloading package averaged_perceptron_tagger to\n",
      "[nltk_data]     /Users/fernandodelgadoteran/nltk_data...\n",
      "[nltk_data]   Unzipping taggers/averaged_perceptron_tagger.zip.\n"
     ]
    },
    {
     "data": {
      "text/plain": [
       "True"
      ]
     },
     "execution_count": 42,
     "metadata": {},
     "output_type": "execute_result"
    }
   ],
   "source": [
    "nltk.download('averaged_perceptron_tagger')"
   ]
  },
  {
   "cell_type": "code",
   "execution_count": 43,
   "metadata": {},
   "outputs": [
    {
     "data": {
      "text/plain": [
       "<bound method DataFrame.reindex of        WP  VBZ  NNS   NN  WRB  PRP  VBP   JJ  VBD   TO  ...  PDT  SYM   ,   $  \\\n",
       "0     1.0  1.0  1.0  1.0  1.0  1.0  1.0  NaN  NaN  NaN  ...  NaN  NaN NaN NaN   \n",
       "1     1.0  NaN  NaN  1.0  NaN  NaN  NaN  1.0  1.0  1.0  ...  NaN  NaN NaN NaN   \n",
       "2     NaN  NaN  NaN  1.0  NaN  1.0  1.0  1.0  1.0  NaN  ...  NaN  NaN NaN NaN   \n",
       "3     NaN  NaN  NaN  1.0  NaN  1.0  1.0  1.0  NaN  1.0  ...  NaN  NaN NaN NaN   \n",
       "4     NaN  NaN  NaN  NaN  NaN  NaN  NaN  NaN  1.0  NaN  ...  NaN  NaN NaN NaN   \n",
       "...   ...  ...  ...  ...  ...  ...  ...  ...  ...  ...  ...  ...  ...  ..  ..   \n",
       "7995  NaN  NaN  1.0  1.0  NaN  NaN  1.0  1.0  NaN  NaN  ...  NaN  NaN NaN NaN   \n",
       "7996  NaN  NaN  1.0  1.0  NaN  1.0  NaN  NaN  1.0  NaN  ...  NaN  NaN NaN NaN   \n",
       "7997  NaN  NaN  1.0  NaN  NaN  NaN  1.0  1.0  NaN  NaN  ...  NaN  NaN NaN NaN   \n",
       "7998  NaN  1.0  1.0  1.0  NaN  1.0  1.0  1.0  NaN  NaN  ...  NaN  NaN NaN NaN   \n",
       "7999  NaN  NaN  NaN  1.0  NaN  1.0  1.0  NaN  NaN  NaN  ...  NaN  NaN NaN NaN   \n",
       "\n",
       "      NNPS   )  POS  ''  RBS   (  \n",
       "0      NaN NaN  NaN NaN  NaN NaN  \n",
       "1      NaN NaN  NaN NaN  NaN NaN  \n",
       "2      NaN NaN  NaN NaN  NaN NaN  \n",
       "3      NaN NaN  NaN NaN  NaN NaN  \n",
       "4      NaN NaN  NaN NaN  NaN NaN  \n",
       "...    ...  ..  ...  ..  ...  ..  \n",
       "7995   NaN NaN  NaN NaN  NaN NaN  \n",
       "7996   NaN NaN  NaN NaN  NaN NaN  \n",
       "7997   NaN NaN  NaN NaN  NaN NaN  \n",
       "7998   NaN NaN  NaN NaN  NaN NaN  \n",
       "7999   NaN NaN  NaN NaN  NaN NaN  \n",
       "\n",
       "[8000 rows x 41 columns]>"
      ]
     },
     "execution_count": 43,
     "metadata": {},
     "output_type": "execute_result"
    }
   ],
   "source": [
    "# Retrieve POS tags with occurrence \n",
    "total_count = count_pos_tag(train.text.values)\n",
    "# As dataframe \n",
    "pos_df = pd.DataFrame(total_count)\n",
    "# Remove unwanted characters\n",
    "# Inspection\n",
    "pos_df.reindex"
   ]
  },
  {
   "cell_type": "code",
   "execution_count": 44,
   "metadata": {},
   "outputs": [],
   "source": [
    "pos_df['NOUN'] = pos_df[pos_family['NOUN']].sum(axis=1)\n",
    "pos_df['PRON'] = pos_df[pos_family['PRON']].sum(axis=1)\n",
    "pos_df['VERB'] = pos_df[pos_family['VERB']].sum(axis=1)\n",
    "pos_df['ADJ'] = pos_df[pos_family['ADJ']].sum(axis=1)\n",
    "pos_df['ADV'] = pos_df[pos_family['ADV']].sum(axis=1)\n",
    "\n",
    "pos_df = pos_df[['NOUN', 'PRON', 'VERB', 'ADJ', 'ADV']]"
   ]
  },
  {
   "cell_type": "code",
   "execution_count": 45,
   "metadata": {},
   "outputs": [
    {
     "data": {
      "text/html": [
       "<div>\n",
       "<style scoped>\n",
       "    .dataframe tbody tr th:only-of-type {\n",
       "        vertical-align: middle;\n",
       "    }\n",
       "\n",
       "    .dataframe tbody tr th {\n",
       "        vertical-align: top;\n",
       "    }\n",
       "\n",
       "    .dataframe thead th {\n",
       "        text-align: right;\n",
       "    }\n",
       "</style>\n",
       "<table border=\"1\" class=\"dataframe\">\n",
       "  <thead>\n",
       "    <tr style=\"text-align: right;\">\n",
       "      <th></th>\n",
       "      <th>target</th>\n",
       "      <th>ids</th>\n",
       "      <th>date</th>\n",
       "      <th>flag</th>\n",
       "      <th>user</th>\n",
       "      <th>text</th>\n",
       "      <th>procesado</th>\n",
       "      <th>Polaridad</th>\n",
       "      <th>Subjetividad</th>\n",
       "      <th>palabras</th>\n",
       "      <th>...</th>\n",
       "      <th>nLabel</th>\n",
       "      <th>neg_scores</th>\n",
       "      <th>neu_scores</th>\n",
       "      <th>pos_scores</th>\n",
       "      <th>compound_scores</th>\n",
       "      <th>NOUN</th>\n",
       "      <th>PRON</th>\n",
       "      <th>VERB</th>\n",
       "      <th>ADJ</th>\n",
       "      <th>ADV</th>\n",
       "    </tr>\n",
       "  </thead>\n",
       "  <tbody>\n",
       "    <tr>\n",
       "      <th>0</th>\n",
       "      <td>0</td>\n",
       "      <td>0.000000e+00</td>\n",
       "      <td>0</td>\n",
       "      <td>0</td>\n",
       "      <td>0</td>\n",
       "      <td>0</td>\n",
       "      <td>0</td>\n",
       "      <td>0.000</td>\n",
       "      <td>0.00</td>\n",
       "      <td>0.0</td>\n",
       "      <td>...</td>\n",
       "      <td>0.0</td>\n",
       "      <td>0.0</td>\n",
       "      <td>0.000</td>\n",
       "      <td>0.000</td>\n",
       "      <td>0.0000</td>\n",
       "      <td>2.0</td>\n",
       "      <td>2.0</td>\n",
       "      <td>2.0</td>\n",
       "      <td>0.0</td>\n",
       "      <td>1.0</td>\n",
       "    </tr>\n",
       "    <tr>\n",
       "      <th>1</th>\n",
       "      <td>Positiva</td>\n",
       "      <td>1.971796e+09</td>\n",
       "      <td>Sat May 30 07:55:06 PDT 2009</td>\n",
       "      <td>NO_QUERY</td>\n",
       "      <td>sazmataz_x</td>\n",
       "      <td>@katie_andhearts going in town later to get my...</td>\n",
       "      <td>['going', 'town', 'late', 'get', 'prom', 'shoe...</td>\n",
       "      <td>0.250</td>\n",
       "      <td>0.65</td>\n",
       "      <td>14.0</td>\n",
       "      <td>...</td>\n",
       "      <td>1.0</td>\n",
       "      <td>0.0</td>\n",
       "      <td>0.714</td>\n",
       "      <td>0.286</td>\n",
       "      <td>0.4215</td>\n",
       "      <td>1.0</td>\n",
       "      <td>1.0</td>\n",
       "      <td>3.0</td>\n",
       "      <td>1.0</td>\n",
       "      <td>0.0</td>\n",
       "    </tr>\n",
       "    <tr>\n",
       "      <th>2</th>\n",
       "      <td>Positiva</td>\n",
       "      <td>1.978133e+09</td>\n",
       "      <td>Sat May 30 22:31:29 PDT 2009</td>\n",
       "      <td>NO_QUERY</td>\n",
       "      <td>Deasoy</td>\n",
       "      <td>happy day</td>\n",
       "      <td>['happy', 'day']</td>\n",
       "      <td>0.800</td>\n",
       "      <td>1.00</td>\n",
       "      <td>2.0</td>\n",
       "      <td>...</td>\n",
       "      <td>1.0</td>\n",
       "      <td>0.0</td>\n",
       "      <td>0.213</td>\n",
       "      <td>0.787</td>\n",
       "      <td>0.5719</td>\n",
       "      <td>2.0</td>\n",
       "      <td>2.0</td>\n",
       "      <td>3.0</td>\n",
       "      <td>1.0</td>\n",
       "      <td>1.0</td>\n",
       "    </tr>\n",
       "    <tr>\n",
       "      <th>3</th>\n",
       "      <td>0</td>\n",
       "      <td>0.000000e+00</td>\n",
       "      <td>0</td>\n",
       "      <td>0</td>\n",
       "      <td>0</td>\n",
       "      <td>0</td>\n",
       "      <td>0</td>\n",
       "      <td>0.000</td>\n",
       "      <td>0.00</td>\n",
       "      <td>0.0</td>\n",
       "      <td>...</td>\n",
       "      <td>0.0</td>\n",
       "      <td>0.0</td>\n",
       "      <td>0.000</td>\n",
       "      <td>0.000</td>\n",
       "      <td>0.0000</td>\n",
       "      <td>1.0</td>\n",
       "      <td>1.0</td>\n",
       "      <td>3.0</td>\n",
       "      <td>1.0</td>\n",
       "      <td>0.0</td>\n",
       "    </tr>\n",
       "    <tr>\n",
       "      <th>4</th>\n",
       "      <td>Neutral</td>\n",
       "      <td>2.055155e+09</td>\n",
       "      <td>Sat Jun 06 08:48:06 PDT 2009</td>\n",
       "      <td>NO_QUERY</td>\n",
       "      <td>LianeGentrySkye</td>\n",
       "      <td>@jodywallace  Are you at the LF event?  I have...</td>\n",
       "      <td>['event', 'seen']</td>\n",
       "      <td>0.000</td>\n",
       "      <td>0.00</td>\n",
       "      <td>11.0</td>\n",
       "      <td>...</td>\n",
       "      <td>0.0</td>\n",
       "      <td>0.0</td>\n",
       "      <td>1.000</td>\n",
       "      <td>0.000</td>\n",
       "      <td>0.0000</td>\n",
       "      <td>1.0</td>\n",
       "      <td>0.0</td>\n",
       "      <td>1.0</td>\n",
       "      <td>0.0</td>\n",
       "      <td>1.0</td>\n",
       "    </tr>\n",
       "    <tr>\n",
       "      <th>...</th>\n",
       "      <td>...</td>\n",
       "      <td>...</td>\n",
       "      <td>...</td>\n",
       "      <td>...</td>\n",
       "      <td>...</td>\n",
       "      <td>...</td>\n",
       "      <td>...</td>\n",
       "      <td>...</td>\n",
       "      <td>...</td>\n",
       "      <td>...</td>\n",
       "      <td>...</td>\n",
       "      <td>...</td>\n",
       "      <td>...</td>\n",
       "      <td>...</td>\n",
       "      <td>...</td>\n",
       "      <td>...</td>\n",
       "      <td>...</td>\n",
       "      <td>...</td>\n",
       "      <td>...</td>\n",
       "      <td>...</td>\n",
       "      <td>...</td>\n",
       "    </tr>\n",
       "    <tr>\n",
       "      <th>9994</th>\n",
       "      <td>Positiva</td>\n",
       "      <td>2.054290e+09</td>\n",
       "      <td>Sat Jun 06 07:01:16 PDT 2009</td>\n",
       "      <td>NO_QUERY</td>\n",
       "      <td>goodlaura</td>\n",
       "      <td>@TrippK I don't know how you manage with so ma...</td>\n",
       "      <td>['know', 'manage', 'many', 'blessings', 'see',...</td>\n",
       "      <td>0.500</td>\n",
       "      <td>0.50</td>\n",
       "      <td>16.0</td>\n",
       "      <td>...</td>\n",
       "      <td>1.0</td>\n",
       "      <td>0.0</td>\n",
       "      <td>0.588</td>\n",
       "      <td>0.412</td>\n",
       "      <td>0.5423</td>\n",
       "      <td>0.0</td>\n",
       "      <td>0.0</td>\n",
       "      <td>0.0</td>\n",
       "      <td>0.0</td>\n",
       "      <td>0.0</td>\n",
       "    </tr>\n",
       "    <tr>\n",
       "      <th>9995</th>\n",
       "      <td>Neutral</td>\n",
       "      <td>1.677875e+09</td>\n",
       "      <td>Sat May 02 04:27:04 PDT 2009</td>\n",
       "      <td>NO_QUERY</td>\n",
       "      <td>Angfergie</td>\n",
       "      <td>@TheRealJordin Kat Von D's makeup rox too!</td>\n",
       "      <td>['kat', 'von', 'makeup', 'rox']</td>\n",
       "      <td>0.000</td>\n",
       "      <td>0.00</td>\n",
       "      <td>7.0</td>\n",
       "      <td>...</td>\n",
       "      <td>0.0</td>\n",
       "      <td>0.0</td>\n",
       "      <td>1.000</td>\n",
       "      <td>0.000</td>\n",
       "      <td>0.0000</td>\n",
       "      <td>0.0</td>\n",
       "      <td>0.0</td>\n",
       "      <td>0.0</td>\n",
       "      <td>0.0</td>\n",
       "      <td>0.0</td>\n",
       "    </tr>\n",
       "    <tr>\n",
       "      <th>9996</th>\n",
       "      <td>Neutral</td>\n",
       "      <td>1.961466e+09</td>\n",
       "      <td>Fri May 29 09:32:43 PDT 2009</td>\n",
       "      <td>NO_QUERY</td>\n",
       "      <td>Shashlye</td>\n",
       "      <td>..well OUR monkeys!!  Yay!!!</td>\n",
       "      <td>['well', 'monkeys', 'yay']</td>\n",
       "      <td>0.000</td>\n",
       "      <td>0.00</td>\n",
       "      <td>4.0</td>\n",
       "      <td>...</td>\n",
       "      <td>0.0</td>\n",
       "      <td>0.0</td>\n",
       "      <td>0.154</td>\n",
       "      <td>0.846</td>\n",
       "      <td>0.6705</td>\n",
       "      <td>0.0</td>\n",
       "      <td>0.0</td>\n",
       "      <td>0.0</td>\n",
       "      <td>0.0</td>\n",
       "      <td>0.0</td>\n",
       "    </tr>\n",
       "    <tr>\n",
       "      <th>9997</th>\n",
       "      <td>Positiva</td>\n",
       "      <td>1.991740e+09</td>\n",
       "      <td>Mon Jun 01 07:34:48 PDT 2009</td>\n",
       "      <td>NO_QUERY</td>\n",
       "      <td>officialpeta</td>\n",
       "      <td>@TradingGoddess Aww, she's beautiful!  My cats...</td>\n",
       "      <td>['aww', 'beautiful', 'cats', 'like', 'newspape...</td>\n",
       "      <td>0.575</td>\n",
       "      <td>0.95</td>\n",
       "      <td>15.0</td>\n",
       "      <td>...</td>\n",
       "      <td>1.0</td>\n",
       "      <td>0.0</td>\n",
       "      <td>0.484</td>\n",
       "      <td>0.516</td>\n",
       "      <td>0.7506</td>\n",
       "      <td>0.0</td>\n",
       "      <td>0.0</td>\n",
       "      <td>0.0</td>\n",
       "      <td>0.0</td>\n",
       "      <td>0.0</td>\n",
       "    </tr>\n",
       "    <tr>\n",
       "      <th>9999</th>\n",
       "      <td>Positiva</td>\n",
       "      <td>2.065610e+09</td>\n",
       "      <td>Sun Jun 07 08:56:44 PDT 2009</td>\n",
       "      <td>NO_QUERY</td>\n",
       "      <td>drfrankenpolish</td>\n",
       "      <td>@ARScherz Thanks, April</td>\n",
       "      <td>['thanks', 'april']</td>\n",
       "      <td>0.200</td>\n",
       "      <td>0.20</td>\n",
       "      <td>3.0</td>\n",
       "      <td>...</td>\n",
       "      <td>1.0</td>\n",
       "      <td>0.0</td>\n",
       "      <td>0.256</td>\n",
       "      <td>0.744</td>\n",
       "      <td>0.4404</td>\n",
       "      <td>0.0</td>\n",
       "      <td>0.0</td>\n",
       "      <td>0.0</td>\n",
       "      <td>0.0</td>\n",
       "      <td>0.0</td>\n",
       "    </tr>\n",
       "  </tbody>\n",
       "</table>\n",
       "<p>9613 rows × 21 columns</p>\n",
       "</div>"
      ],
      "text/plain": [
       "        target           ids                          date      flag  \\\n",
       "0            0  0.000000e+00                             0         0   \n",
       "1     Positiva  1.971796e+09  Sat May 30 07:55:06 PDT 2009  NO_QUERY   \n",
       "2     Positiva  1.978133e+09  Sat May 30 22:31:29 PDT 2009  NO_QUERY   \n",
       "3            0  0.000000e+00                             0         0   \n",
       "4      Neutral  2.055155e+09  Sat Jun 06 08:48:06 PDT 2009  NO_QUERY   \n",
       "...        ...           ...                           ...       ...   \n",
       "9994  Positiva  2.054290e+09  Sat Jun 06 07:01:16 PDT 2009  NO_QUERY   \n",
       "9995   Neutral  1.677875e+09  Sat May 02 04:27:04 PDT 2009  NO_QUERY   \n",
       "9996   Neutral  1.961466e+09  Fri May 29 09:32:43 PDT 2009  NO_QUERY   \n",
       "9997  Positiva  1.991740e+09  Mon Jun 01 07:34:48 PDT 2009  NO_QUERY   \n",
       "9999  Positiva  2.065610e+09  Sun Jun 07 08:56:44 PDT 2009  NO_QUERY   \n",
       "\n",
       "                 user                                               text  \\\n",
       "0                   0                                                  0   \n",
       "1          sazmataz_x  @katie_andhearts going in town later to get my...   \n",
       "2              Deasoy                                         happy day    \n",
       "3                   0                                                  0   \n",
       "4     LianeGentrySkye  @jodywallace  Are you at the LF event?  I have...   \n",
       "...               ...                                                ...   \n",
       "9994        goodlaura  @TrippK I don't know how you manage with so ma...   \n",
       "9995        Angfergie        @TheRealJordin Kat Von D's makeup rox too!    \n",
       "9996         Shashlye                       ..well OUR monkeys!!  Yay!!!   \n",
       "9997     officialpeta  @TradingGoddess Aww, she's beautiful!  My cats...   \n",
       "9999  drfrankenpolish                           @ARScherz Thanks, April    \n",
       "\n",
       "                                              procesado  Polaridad  \\\n",
       "0                                                     0      0.000   \n",
       "1     ['going', 'town', 'late', 'get', 'prom', 'shoe...      0.250   \n",
       "2                                      ['happy', 'day']      0.800   \n",
       "3                                                     0      0.000   \n",
       "4                                     ['event', 'seen']      0.000   \n",
       "...                                                 ...        ...   \n",
       "9994  ['know', 'manage', 'many', 'blessings', 'see',...      0.500   \n",
       "9995                    ['kat', 'von', 'makeup', 'rox']      0.000   \n",
       "9996                         ['well', 'monkeys', 'yay']      0.000   \n",
       "9997  ['aww', 'beautiful', 'cats', 'like', 'newspape...      0.575   \n",
       "9999                                ['thanks', 'april']      0.200   \n",
       "\n",
       "      Subjetividad  palabras  ...  nLabel  neg_scores  neu_scores  pos_scores  \\\n",
       "0             0.00       0.0  ...     0.0         0.0       0.000       0.000   \n",
       "1             0.65      14.0  ...     1.0         0.0       0.714       0.286   \n",
       "2             1.00       2.0  ...     1.0         0.0       0.213       0.787   \n",
       "3             0.00       0.0  ...     0.0         0.0       0.000       0.000   \n",
       "4             0.00      11.0  ...     0.0         0.0       1.000       0.000   \n",
       "...            ...       ...  ...     ...         ...         ...         ...   \n",
       "9994          0.50      16.0  ...     1.0         0.0       0.588       0.412   \n",
       "9995          0.00       7.0  ...     0.0         0.0       1.000       0.000   \n",
       "9996          0.00       4.0  ...     0.0         0.0       0.154       0.846   \n",
       "9997          0.95      15.0  ...     1.0         0.0       0.484       0.516   \n",
       "9999          0.20       3.0  ...     1.0         0.0       0.256       0.744   \n",
       "\n",
       "      compound_scores  NOUN  PRON  VERB  ADJ  ADV  \n",
       "0              0.0000   2.0   2.0   2.0  0.0  1.0  \n",
       "1              0.4215   1.0   1.0   3.0  1.0  0.0  \n",
       "2              0.5719   2.0   2.0   3.0  1.0  1.0  \n",
       "3              0.0000   1.0   1.0   3.0  1.0  0.0  \n",
       "4              0.0000   1.0   0.0   1.0  0.0  1.0  \n",
       "...               ...   ...   ...   ...  ...  ...  \n",
       "9994           0.5423   0.0   0.0   0.0  0.0  0.0  \n",
       "9995           0.0000   0.0   0.0   0.0  0.0  0.0  \n",
       "9996           0.6705   0.0   0.0   0.0  0.0  0.0  \n",
       "9997           0.7506   0.0   0.0   0.0  0.0  0.0  \n",
       "9999           0.4404   0.0   0.0   0.0  0.0  0.0  \n",
       "\n",
       "[9613 rows x 21 columns]"
      ]
     },
     "execution_count": 45,
     "metadata": {},
     "output_type": "execute_result"
    }
   ],
   "source": [
    "train = pd.concat([train, pos_df], axis = 1)\n",
    "train = train.fillna(value=0.0)\n",
    "train"
   ]
  },
  {
   "cell_type": "code",
   "execution_count": 47,
   "metadata": {},
   "outputs": [],
   "source": [
    "train.drop_duplicates(subset=['text'], inplace=True)"
   ]
  },
  {
   "cell_type": "code",
   "execution_count": 48,
   "metadata": {},
   "outputs": [],
   "source": [
    "train.to_csv('./output/feat_train_data.csv', index=False)"
   ]
  },
  {
   "cell_type": "code",
   "execution_count": 49,
   "metadata": {},
   "outputs": [
    {
     "data": {
      "text/html": [
       "<div>\n",
       "<style scoped>\n",
       "    .dataframe tbody tr th:only-of-type {\n",
       "        vertical-align: middle;\n",
       "    }\n",
       "\n",
       "    .dataframe tbody tr th {\n",
       "        vertical-align: top;\n",
       "    }\n",
       "\n",
       "    .dataframe thead th {\n",
       "        text-align: right;\n",
       "    }\n",
       "</style>\n",
       "<table border=\"1\" class=\"dataframe\">\n",
       "  <thead>\n",
       "    <tr style=\"text-align: right;\">\n",
       "      <th></th>\n",
       "      <th>target</th>\n",
       "      <th>ids</th>\n",
       "      <th>date</th>\n",
       "      <th>flag</th>\n",
       "      <th>user</th>\n",
       "      <th>text</th>\n",
       "      <th>procesado</th>\n",
       "      <th>Polaridad</th>\n",
       "      <th>Subjetividad</th>\n",
       "      <th>palabras</th>\n",
       "      <th>...</th>\n",
       "      <th>nLabel</th>\n",
       "      <th>neg_scores</th>\n",
       "      <th>neu_scores</th>\n",
       "      <th>pos_scores</th>\n",
       "      <th>compound_scores</th>\n",
       "      <th>NOUN</th>\n",
       "      <th>PRON</th>\n",
       "      <th>VERB</th>\n",
       "      <th>ADJ</th>\n",
       "      <th>ADV</th>\n",
       "    </tr>\n",
       "  </thead>\n",
       "  <tbody>\n",
       "    <tr>\n",
       "      <th>0</th>\n",
       "      <td>0</td>\n",
       "      <td>0.000000e+00</td>\n",
       "      <td>0</td>\n",
       "      <td>0</td>\n",
       "      <td>0</td>\n",
       "      <td>0</td>\n",
       "      <td>0</td>\n",
       "      <td>0.00</td>\n",
       "      <td>0.00</td>\n",
       "      <td>0.0</td>\n",
       "      <td>...</td>\n",
       "      <td>0.0</td>\n",
       "      <td>0.0</td>\n",
       "      <td>0.000</td>\n",
       "      <td>0.000</td>\n",
       "      <td>0.0000</td>\n",
       "      <td>2.0</td>\n",
       "      <td>2.0</td>\n",
       "      <td>2.0</td>\n",
       "      <td>0.0</td>\n",
       "      <td>1.0</td>\n",
       "    </tr>\n",
       "    <tr>\n",
       "      <th>1</th>\n",
       "      <td>Positiva</td>\n",
       "      <td>1.971796e+09</td>\n",
       "      <td>Sat May 30 07:55:06 PDT 2009</td>\n",
       "      <td>NO_QUERY</td>\n",
       "      <td>sazmataz_x</td>\n",
       "      <td>@katie_andhearts going in town later to get my...</td>\n",
       "      <td>['going', 'town', 'late', 'get', 'prom', 'shoe...</td>\n",
       "      <td>0.25</td>\n",
       "      <td>0.65</td>\n",
       "      <td>14.0</td>\n",
       "      <td>...</td>\n",
       "      <td>1.0</td>\n",
       "      <td>0.0</td>\n",
       "      <td>0.714</td>\n",
       "      <td>0.286</td>\n",
       "      <td>0.4215</td>\n",
       "      <td>1.0</td>\n",
       "      <td>1.0</td>\n",
       "      <td>3.0</td>\n",
       "      <td>1.0</td>\n",
       "      <td>0.0</td>\n",
       "    </tr>\n",
       "    <tr>\n",
       "      <th>2</th>\n",
       "      <td>Positiva</td>\n",
       "      <td>1.978133e+09</td>\n",
       "      <td>Sat May 30 22:31:29 PDT 2009</td>\n",
       "      <td>NO_QUERY</td>\n",
       "      <td>Deasoy</td>\n",
       "      <td>happy day</td>\n",
       "      <td>['happy', 'day']</td>\n",
       "      <td>0.80</td>\n",
       "      <td>1.00</td>\n",
       "      <td>2.0</td>\n",
       "      <td>...</td>\n",
       "      <td>1.0</td>\n",
       "      <td>0.0</td>\n",
       "      <td>0.213</td>\n",
       "      <td>0.787</td>\n",
       "      <td>0.5719</td>\n",
       "      <td>2.0</td>\n",
       "      <td>2.0</td>\n",
       "      <td>3.0</td>\n",
       "      <td>1.0</td>\n",
       "      <td>1.0</td>\n",
       "    </tr>\n",
       "    <tr>\n",
       "      <th>4</th>\n",
       "      <td>Neutral</td>\n",
       "      <td>2.055155e+09</td>\n",
       "      <td>Sat Jun 06 08:48:06 PDT 2009</td>\n",
       "      <td>NO_QUERY</td>\n",
       "      <td>LianeGentrySkye</td>\n",
       "      <td>@jodywallace  Are you at the LF event?  I have...</td>\n",
       "      <td>['event', 'seen']</td>\n",
       "      <td>0.00</td>\n",
       "      <td>0.00</td>\n",
       "      <td>11.0</td>\n",
       "      <td>...</td>\n",
       "      <td>0.0</td>\n",
       "      <td>0.0</td>\n",
       "      <td>1.000</td>\n",
       "      <td>0.000</td>\n",
       "      <td>0.0000</td>\n",
       "      <td>1.0</td>\n",
       "      <td>0.0</td>\n",
       "      <td>1.0</td>\n",
       "      <td>0.0</td>\n",
       "      <td>1.0</td>\n",
       "    </tr>\n",
       "    <tr>\n",
       "      <th>5</th>\n",
       "      <td>Positiva</td>\n",
       "      <td>2.066500e+09</td>\n",
       "      <td>Sun Jun 07 10:38:18 PDT 2009</td>\n",
       "      <td>NO_QUERY</td>\n",
       "      <td>darkrumblog</td>\n",
       "      <td>@Fleshworks Excellent, very good indeed!  Am p...</td>\n",
       "      <td>['excellent', 'good', 'indeed', 'posting']</td>\n",
       "      <td>0.85</td>\n",
       "      <td>0.80</td>\n",
       "      <td>9.0</td>\n",
       "      <td>...</td>\n",
       "      <td>1.0</td>\n",
       "      <td>0.0</td>\n",
       "      <td>0.233</td>\n",
       "      <td>0.767</td>\n",
       "      <td>0.7650</td>\n",
       "      <td>2.0</td>\n",
       "      <td>0.0</td>\n",
       "      <td>0.0</td>\n",
       "      <td>0.0</td>\n",
       "      <td>0.0</td>\n",
       "    </tr>\n",
       "  </tbody>\n",
       "</table>\n",
       "<p>5 rows × 21 columns</p>\n",
       "</div>"
      ],
      "text/plain": [
       "     target           ids                          date      flag  \\\n",
       "0         0  0.000000e+00                             0         0   \n",
       "1  Positiva  1.971796e+09  Sat May 30 07:55:06 PDT 2009  NO_QUERY   \n",
       "2  Positiva  1.978133e+09  Sat May 30 22:31:29 PDT 2009  NO_QUERY   \n",
       "4   Neutral  2.055155e+09  Sat Jun 06 08:48:06 PDT 2009  NO_QUERY   \n",
       "5  Positiva  2.066500e+09  Sun Jun 07 10:38:18 PDT 2009  NO_QUERY   \n",
       "\n",
       "              user                                               text  \\\n",
       "0                0                                                  0   \n",
       "1       sazmataz_x  @katie_andhearts going in town later to get my...   \n",
       "2           Deasoy                                         happy day    \n",
       "4  LianeGentrySkye  @jodywallace  Are you at the LF event?  I have...   \n",
       "5      darkrumblog  @Fleshworks Excellent, very good indeed!  Am p...   \n",
       "\n",
       "                                           procesado  Polaridad  Subjetividad  \\\n",
       "0                                                  0       0.00          0.00   \n",
       "1  ['going', 'town', 'late', 'get', 'prom', 'shoe...       0.25          0.65   \n",
       "2                                   ['happy', 'day']       0.80          1.00   \n",
       "4                                  ['event', 'seen']       0.00          0.00   \n",
       "5         ['excellent', 'good', 'indeed', 'posting']       0.85          0.80   \n",
       "\n",
       "   palabras  ...  nLabel  neg_scores  neu_scores  pos_scores  compound_scores  \\\n",
       "0       0.0  ...     0.0         0.0       0.000       0.000           0.0000   \n",
       "1      14.0  ...     1.0         0.0       0.714       0.286           0.4215   \n",
       "2       2.0  ...     1.0         0.0       0.213       0.787           0.5719   \n",
       "4      11.0  ...     0.0         0.0       1.000       0.000           0.0000   \n",
       "5       9.0  ...     1.0         0.0       0.233       0.767           0.7650   \n",
       "\n",
       "   NOUN  PRON  VERB  ADJ  ADV  \n",
       "0   2.0   2.0   2.0  0.0  1.0  \n",
       "1   1.0   1.0   3.0  1.0  0.0  \n",
       "2   2.0   2.0   3.0  1.0  1.0  \n",
       "4   1.0   0.0   1.0  0.0  1.0  \n",
       "5   2.0   0.0   0.0  0.0  0.0  \n",
       "\n",
       "[5 rows x 21 columns]"
      ]
     },
     "execution_count": 49,
     "metadata": {},
     "output_type": "execute_result"
    }
   ],
   "source": [
    "train.isnull().values.any()\n",
    "train_prep=train.copy()\n",
    "train_prep.head()"
   ]
  },
  {
   "cell_type": "code",
   "execution_count": 73,
   "metadata": {},
   "outputs": [
    {
     "data": {
      "text/plain": [
       "((7998, 5), (7998, 1))"
      ]
     },
     "execution_count": 73,
     "metadata": {},
     "output_type": "execute_result"
    }
   ],
   "source": [
    "# Extracting Features\n",
    "features = ['text', 'neu_scores', 'neg_scores', 'compound_scores', 'pos_scores']\n",
    "label = ['nLabel']\n",
    "# Saving features and label data in X and y for train-test split\n",
    "X = train_prep[[col for col in train_prep.columns if col in features]]\n",
    "y = train_prep[label]\n",
    "\n",
    "X.shape, y.shape"
   ]
  },
  {
   "cell_type": "code",
   "execution_count": 74,
   "metadata": {},
   "outputs": [
    {
     "name": "stdout",
     "output_type": "stream",
     "text": [
      "Shapes are (5598, 5) and (2400, 5)\n"
     ]
    }
   ],
   "source": [
    "X_train, X_test, y_train, y_test = train_test_split(X, y, test_size=0.30, random_state=0)\n",
    "\n",
    "print(\"Shapes are {} and {}\".format(X_train.shape, X_test.shape))"
   ]
  },
  {
   "cell_type": "code",
   "execution_count": 75,
   "metadata": {},
   "outputs": [
    {
     "data": {
      "text/plain": [
       " 1.0    0.419078\n",
       " 0.0    0.371383\n",
       "-1.0    0.209539\n",
       "dtype: float64"
      ]
     },
     "execution_count": 75,
     "metadata": {},
     "output_type": "execute_result"
    }
   ],
   "source": [
    "pd.Series(y_train.values.ravel()).value_counts(normalize=True)\n",
    "pd.Series(y_train.values.ravel()).value_counts(normalize=True)"
   ]
  },
  {
   "cell_type": "code",
   "execution_count": 76,
   "metadata": {},
   "outputs": [],
   "source": [
    "#el dataset tiene una probabilidad de acertar del 42% si es positivo,..."
   ]
  },
  {
   "cell_type": "code",
   "execution_count": 77,
   "metadata": {},
   "outputs": [],
   "source": [
    "# Helper functions\n",
    "\n",
    "class TextSelector(BaseEstimator, TransformerMixin):\n",
    "    \"\"\"\n",
    "    Transformer to select a single column from the data frame to perform additional transformations on\n",
    "    Use on text columns in the data\n",
    "    \"\"\"\n",
    "    def __init__(self, key):\n",
    "        self.key = key\n",
    "\n",
    "    def fit(self, X, y=None):\n",
    "        return self\n",
    "\n",
    "    def transform(self, X):\n",
    "        return X[self.key]\n",
    "    \n",
    "class NumberSelector(BaseEstimator, TransformerMixin):\n",
    "    \"\"\"\n",
    "    Transformer to select a single column from the data frame to perform additional transformations on\n",
    "    Use on numeric columns in the data\n",
    "    \"\"\"\n",
    "    def __init__(self, key):\n",
    "        self.key = key\n",
    "\n",
    "    def fit(self, X, y=None):\n",
    "        return self\n",
    "\n",
    "    def transform(self, X):\n",
    "        return X[[self.key]]"
   ]
  },
  {
   "cell_type": "code",
   "execution_count": 78,
   "metadata": {},
   "outputs": [],
   "source": [
    "# Pipeline to convert tweets to a matrix of TF-IDF features.\n",
    "tfidf = Pipeline([\n",
    "                ('selector', TextSelector(key='text')),\n",
    "                ('tfidf', TfidfVectorizer())\n",
    "            ])\n",
    "\n",
    "# Pipeline to convert tweets to a matrix of token counts\n",
    "countvect = Pipeline([\n",
    "                ('selector', TextSelector(key='text')),\n",
    "                ('countvect', CountVectorizer())\n",
    "            ])"
   ]
  },
  {
   "cell_type": "code",
   "execution_count": 79,
   "metadata": {},
   "outputs": [],
   "source": [
    "# Applying tfidf anf countvec to features\n",
    "\n",
    "neu_scores =  Pipeline([\n",
    "                ('selector', NumberSelector(key='neu_scores')),\n",
    "                ('minmax', MinMaxScaler())\n",
    "            ])\n",
    "neg_scores =  Pipeline([\n",
    "                ('selector', NumberSelector(key='neg_scores')),\n",
    "                ('minmax', MinMaxScaler())\n",
    "            ])\n",
    "pos_scores =  Pipeline([\n",
    "                ('selector', NumberSelector(key='pos_scores')),\n",
    "                ('minmax', MinMaxScaler())\n",
    "            ])\n",
    "\n",
    "compound_scores =  Pipeline([\n",
    "                ('selector', NumberSelector(key='compound_scores')),\n",
    "                ('minmax', MinMaxScaler())\n",
    "            ])"
   ]
  },
  {
   "cell_type": "code",
   "execution_count": 80,
   "metadata": {},
   "outputs": [],
   "source": [
    "# defining different sets of text processors\n",
    "def features_union(textProcessor):\n",
    "    return FeatureUnion([('text', textProcessor),\n",
    "                      ('neu_scores', neu_scores),\n",
    "                      ('neg_scores', neg_scores),\n",
    "                      ('pos_scores', pos_scores),\n",
    "                      ('compound_scores', compound_scores)])"
   ]
  },
  {
   "cell_type": "code",
   "execution_count": 81,
   "metadata": {},
   "outputs": [
    {
     "data": {
      "text/plain": [
       "((5598, 5), (2400, 5))"
      ]
     },
     "execution_count": 81,
     "metadata": {},
     "output_type": "execute_result"
    }
   ],
   "source": [
    "le = LabelEncoder().fit(y_train.values.ravel())\n",
    "\n",
    "y_train = le.transform(y_train.values.ravel())\n",
    "y_test = le.transform(y_test.values.ravel())\n",
    "\n",
    "X_train.shape, X_test.shape"
   ]
  },
  {
   "cell_type": "markdown",
   "metadata": {},
   "source": [
    "# Clasificador bayes\n"
   ]
  },
  {
   "cell_type": "code",
   "execution_count": 87,
   "metadata": {},
   "outputs": [
    {
     "data": {
      "text/plain": [
       "0.6991666666666667"
      ]
     },
     "execution_count": 87,
     "metadata": {},
     "output_type": "execute_result"
    }
   ],
   "source": [
    "# instantiate classifier\n",
    "clf = MultinomialNB()\n",
    "\n",
    "# combine features\n",
    "features_count = features_union(countvect)\n",
    "\n",
    "# define pipeline object \n",
    "nb_pipeline = Pipeline([('features', features_count),\n",
    "                       ('nb', clf)])\n",
    "\n",
    "# Fit classifier\n",
    "nb_pipeline.fit(X_train.astype(str), y_train)\n",
    "\n",
    "# score\n",
    "nb_pipeline.score(X_test, y_test)"
   ]
  },
  {
   "cell_type": "code",
   "execution_count": 86,
   "metadata": {},
   "outputs": [
    {
     "data": {
      "text/plain": [
       "0.8541666666666666"
      ]
     },
     "execution_count": 86,
     "metadata": {},
     "output_type": "execute_result"
    }
   ],
   "source": [
    "# instantiate classifier\n",
    "svm = LinearSVC()\n",
    "\n",
    "#  combine features\n",
    "features_tfidf = features_union(tfidf)\n",
    "\n",
    "# define pipeline object\n",
    "svm_pipeline = Pipeline([('features', features_tfidf),\n",
    "                       ('svm', svm)])\n",
    "\n",
    "# Fit classifier\n",
    "svm_pipeline.fit(X_train.astype(str), y_train)\n",
    "\n",
    "# score\n",
    "svm_pipeline.score(X_test, y_test)"
   ]
  },
  {
   "cell_type": "code",
   "execution_count": 88,
   "metadata": {},
   "outputs": [
    {
     "name": "stdout",
     "output_type": "stream",
     "text": [
      "Time taken to run: 3.2 minutes\n"
     ]
    },
    {
     "data": {
      "text/plain": [
       "0.68625"
      ]
     },
     "execution_count": 88,
     "metadata": {},
     "output_type": "execute_result"
    }
   ],
   "source": [
    "# Naive Bayes Classifier\n",
    "\n",
    "# combine features\n",
    "features_tfidf = features_union(tfidf)\n",
    "\n",
    "# instantiate pipeline object\n",
    "nb_pipeline = Pipeline([('feats', features_tfidf),  ('clf', MultinomialNB())])\n",
    "\n",
    "# parameter grid (3x3x2x2x3x3x2) combinations\n",
    "parameters = {\n",
    "    'feats__text__tfidf__max_df': (0.5, 0.75, 1.0),\n",
    "    'feats__text__tfidf__ngram_range': ((1, 1), (1, 2), (2, 2)), \n",
    "    'feats__text__tfidf__use_idf': (False, True),\n",
    "    'feats__text__tfidf__binary':(False, True),\n",
    "    'feats__text__tfidf__binary':('l1', 'l2', None),\n",
    "    'clf__alpha': (1.0, 5.0, 10.0),\n",
    "    'clf__fit_prior': (True, False),     \n",
    "}\n",
    "\n",
    "# instantiate GridSearchCV object with pipeline and parameters with 3-folds cross-validation\n",
    "nb_grid = GridSearchCV(nb_pipeline, parameters, cv=3) # this takes a while :/\n",
    "\n",
    "# start time \n",
    "nb_start = time.time()\n",
    "\n",
    "# Fit \n",
    "nb_grid.fit(X_train.astype(str), y_train)\n",
    "\n",
    "# end time \n",
    "svm_end = time.time()\n",
    "print(f\"Time taken to run: {round((svm_end - nb_start)/60,1)} minutes\")\n",
    "\n",
    "# Check score\n",
    "nb_grid.score(X_test, y_test)"
   ]
  },
  {
   "cell_type": "code",
   "execution_count": 89,
   "metadata": {},
   "outputs": [
    {
     "name": "stdout",
     "output_type": "stream",
     "text": [
      "Best params: {'clf__alpha': 1.0, 'clf__fit_prior': False, 'feats__text__tfidf__binary': 'l1', 'feats__text__tfidf__max_df': 0.5, 'feats__text__tfidf__ngram_range': (1, 1), 'feats__text__tfidf__use_idf': True}\n"
     ]
    },
    {
     "data": {
      "text/html": [
       "<div>\n",
       "<style scoped>\n",
       "    .dataframe tbody tr th:only-of-type {\n",
       "        vertical-align: middle;\n",
       "    }\n",
       "\n",
       "    .dataframe tbody tr th {\n",
       "        vertical-align: top;\n",
       "    }\n",
       "\n",
       "    .dataframe thead th {\n",
       "        text-align: right;\n",
       "    }\n",
       "</style>\n",
       "<table border=\"1\" class=\"dataframe\">\n",
       "  <thead>\n",
       "    <tr style=\"text-align: right;\">\n",
       "      <th></th>\n",
       "      <th>mean_fit_time</th>\n",
       "      <th>std_fit_time</th>\n",
       "      <th>mean_score_time</th>\n",
       "      <th>std_score_time</th>\n",
       "      <th>param_clf__alpha</th>\n",
       "      <th>param_clf__fit_prior</th>\n",
       "      <th>param_feats__text__tfidf__binary</th>\n",
       "      <th>param_feats__text__tfidf__max_df</th>\n",
       "      <th>param_feats__text__tfidf__ngram_range</th>\n",
       "      <th>param_feats__text__tfidf__use_idf</th>\n",
       "      <th>params</th>\n",
       "      <th>split0_test_score</th>\n",
       "      <th>split1_test_score</th>\n",
       "      <th>split2_test_score</th>\n",
       "      <th>mean_test_score</th>\n",
       "      <th>std_test_score</th>\n",
       "      <th>rank_test_score</th>\n",
       "    </tr>\n",
       "  </thead>\n",
       "  <tbody>\n",
       "    <tr>\n",
       "      <th>0</th>\n",
       "      <td>0.088420</td>\n",
       "      <td>0.006950</td>\n",
       "      <td>0.034165</td>\n",
       "      <td>0.001112</td>\n",
       "      <td>1</td>\n",
       "      <td>True</td>\n",
       "      <td>l1</td>\n",
       "      <td>0.5</td>\n",
       "      <td>(1, 1)</td>\n",
       "      <td>False</td>\n",
       "      <td>{'clf__alpha': 1.0, 'clf__fit_prior': True, 'f...</td>\n",
       "      <td>0.595391</td>\n",
       "      <td>0.608253</td>\n",
       "      <td>0.609861</td>\n",
       "      <td>0.604502</td>\n",
       "      <td>0.006475</td>\n",
       "      <td>91</td>\n",
       "    </tr>\n",
       "    <tr>\n",
       "      <th>1</th>\n",
       "      <td>0.086189</td>\n",
       "      <td>0.002420</td>\n",
       "      <td>0.038717</td>\n",
       "      <td>0.003986</td>\n",
       "      <td>1</td>\n",
       "      <td>True</td>\n",
       "      <td>l1</td>\n",
       "      <td>0.5</td>\n",
       "      <td>(1, 1)</td>\n",
       "      <td>True</td>\n",
       "      <td>{'clf__alpha': 1.0, 'clf__fit_prior': True, 'f...</td>\n",
       "      <td>0.610397</td>\n",
       "      <td>0.628081</td>\n",
       "      <td>0.627010</td>\n",
       "      <td>0.621829</td>\n",
       "      <td>0.008096</td>\n",
       "      <td>73</td>\n",
       "    </tr>\n",
       "    <tr>\n",
       "      <th>2</th>\n",
       "      <td>0.200385</td>\n",
       "      <td>0.001798</td>\n",
       "      <td>0.058952</td>\n",
       "      <td>0.004798</td>\n",
       "      <td>1</td>\n",
       "      <td>True</td>\n",
       "      <td>l1</td>\n",
       "      <td>0.5</td>\n",
       "      <td>(1, 2)</td>\n",
       "      <td>False</td>\n",
       "      <td>{'clf__alpha': 1.0, 'clf__fit_prior': True, 'f...</td>\n",
       "      <td>0.536977</td>\n",
       "      <td>0.549303</td>\n",
       "      <td>0.536442</td>\n",
       "      <td>0.540907</td>\n",
       "      <td>0.005941</td>\n",
       "      <td>181</td>\n",
       "    </tr>\n",
       "  </tbody>\n",
       "</table>\n",
       "</div>"
      ],
      "text/plain": [
       "   mean_fit_time  std_fit_time  mean_score_time  std_score_time  \\\n",
       "0       0.088420      0.006950         0.034165        0.001112   \n",
       "1       0.086189      0.002420         0.038717        0.003986   \n",
       "2       0.200385      0.001798         0.058952        0.004798   \n",
       "\n",
       "  param_clf__alpha param_clf__fit_prior param_feats__text__tfidf__binary  \\\n",
       "0                1                 True                               l1   \n",
       "1                1                 True                               l1   \n",
       "2                1                 True                               l1   \n",
       "\n",
       "  param_feats__text__tfidf__max_df param_feats__text__tfidf__ngram_range  \\\n",
       "0                              0.5                                (1, 1)   \n",
       "1                              0.5                                (1, 1)   \n",
       "2                              0.5                                (1, 2)   \n",
       "\n",
       "  param_feats__text__tfidf__use_idf  \\\n",
       "0                             False   \n",
       "1                              True   \n",
       "2                             False   \n",
       "\n",
       "                                              params  split0_test_score  \\\n",
       "0  {'clf__alpha': 1.0, 'clf__fit_prior': True, 'f...           0.595391   \n",
       "1  {'clf__alpha': 1.0, 'clf__fit_prior': True, 'f...           0.610397   \n",
       "2  {'clf__alpha': 1.0, 'clf__fit_prior': True, 'f...           0.536977   \n",
       "\n",
       "   split1_test_score  split2_test_score  mean_test_score  std_test_score  \\\n",
       "0           0.608253           0.609861         0.604502        0.006475   \n",
       "1           0.628081           0.627010         0.621829        0.008096   \n",
       "2           0.549303           0.536442         0.540907        0.005941   \n",
       "\n",
       "   rank_test_score  \n",
       "0               91  \n",
       "1               73  \n",
       "2              181  "
      ]
     },
     "execution_count": 89,
     "metadata": {},
     "output_type": "execute_result"
    }
   ],
   "source": [
    "print('Best params: {}'.format(nb_grid.best_params_))\n",
    "nb_cv_results = pd.DataFrame(nb_grid.cv_results_)\n",
    "nb_cv_results.head(3)"
   ]
  },
  {
   "cell_type": "code",
   "execution_count": 98,
   "metadata": {},
   "outputs": [
    {
     "name": "stdout",
     "output_type": "stream",
     "text": [
      "Time taken to run: 11.0 minutes\n"
     ]
    },
    {
     "data": {
      "text/plain": [
       "0.8758333333333334"
      ]
     },
     "execution_count": 98,
     "metadata": {},
     "output_type": "execute_result"
    }
   ],
   "source": [
    "# Support Vector Classifier\n",
    "\n",
    "# combine features\n",
    "features_count = features_union(tfidf)\n",
    "\n",
    "# instantiate pipeline\n",
    "svm_count_pipeline = Pipeline([('feats', features_count),  ('clf', LinearSVC(max_iter=10000))])\n",
    "\n",
    "# parameter grid (3x3x2x3x7x2) combinations\n",
    "parameters = {\n",
    "    'feats__text__tfidf__max_df': (0.5, 0.75, 1.0),\n",
    "    'feats__text__tfidf__ngram_range': ((1, 1), (1, 2), (2, 2)), \n",
    "    'feats__text__tfidf__use_idf': (False, True),\n",
    "    'clf__loss': ('hinge', 'squared_hinge'),\n",
    "    'clf__C': (0.1, 0.5, 0.6, 1, 4, 5, 10, 100),\n",
    "    'clf__class_weight': (None, 'balanced')                                    \n",
    "}\n",
    "\n",
    "# instantiate GridSearchCV object with pipeline and parameters with 3-folds cross-validation\n",
    "svm_grid = GridSearchCV(svm_count_pipeline, parameters, cv=3)\n",
    "\n",
    "# start time \n",
    "svm_start = time.time()\n",
    "\n",
    "# fit\n",
    "svm_grid.fit(X_train.astype(str), y_train)\n",
    "\n",
    "# end time \n",
    "svm_end = time.time()\n",
    "print(f\"Time taken to run: {round((svm_end - svm_start)/60,1)} minutes\")\n",
    "\n",
    "# score\n",
    "svm_grid.score(X_test, y_test)"
   ]
  },
  {
   "cell_type": "code",
   "execution_count": 97,
   "metadata": {},
   "outputs": [
    {
     "ename": "AttributeError",
     "evalue": "'GridSearchCV' object has no attribute 'grid_scores_'",
     "output_type": "error",
     "traceback": [
      "\u001b[0;31m---------------------------------------------------------------------------\u001b[0m",
      "\u001b[0;31mAttributeError\u001b[0m                            Traceback (most recent call last)",
      "\u001b[0;32m<ipython-input-97-4b90f704e0cb>\u001b[0m in \u001b[0;36m<module>\u001b[0;34m\u001b[0m\n\u001b[0;32m----> 1\u001b[0;31m \u001b[0msvm_grid\u001b[0m\u001b[0;34m.\u001b[0m\u001b[0mgrid_scores_\u001b[0m\u001b[0;34m(\u001b[0m\u001b[0mX_test\u001b[0m\u001b[0;34m,\u001b[0m \u001b[0my_test\u001b[0m\u001b[0;34m)\u001b[0m\u001b[0;34m\u001b[0m\u001b[0;34m\u001b[0m\u001b[0m\n\u001b[0m",
      "\u001b[0;31mAttributeError\u001b[0m: 'GridSearchCV' object has no attribute 'grid_scores_'"
     ]
    }
   ],
   "source": [
    "#svm_grid.score(X_test, y_test)"
   ]
  },
  {
   "cell_type": "code",
   "execution_count": 99,
   "metadata": {},
   "outputs": [
    {
     "name": "stdout",
     "output_type": "stream",
     "text": [
      "Best params: {'clf__C': 4, 'clf__class_weight': None, 'clf__loss': 'hinge', 'feats__text__tfidf__max_df': 0.5, 'feats__text__tfidf__ngram_range': (1, 1), 'feats__text__tfidf__use_idf': False}\n"
     ]
    },
    {
     "data": {
      "text/html": [
       "<div>\n",
       "<style scoped>\n",
       "    .dataframe tbody tr th:only-of-type {\n",
       "        vertical-align: middle;\n",
       "    }\n",
       "\n",
       "    .dataframe tbody tr th {\n",
       "        vertical-align: top;\n",
       "    }\n",
       "\n",
       "    .dataframe thead th {\n",
       "        text-align: right;\n",
       "    }\n",
       "</style>\n",
       "<table border=\"1\" class=\"dataframe\">\n",
       "  <thead>\n",
       "    <tr style=\"text-align: right;\">\n",
       "      <th></th>\n",
       "      <th>mean_fit_time</th>\n",
       "      <th>std_fit_time</th>\n",
       "      <th>mean_score_time</th>\n",
       "      <th>std_score_time</th>\n",
       "      <th>param_clf__C</th>\n",
       "      <th>param_clf__class_weight</th>\n",
       "      <th>param_clf__loss</th>\n",
       "      <th>param_feats__text__tfidf__max_df</th>\n",
       "      <th>param_feats__text__tfidf__ngram_range</th>\n",
       "      <th>param_feats__text__tfidf__use_idf</th>\n",
       "      <th>params</th>\n",
       "      <th>split0_test_score</th>\n",
       "      <th>split1_test_score</th>\n",
       "      <th>split2_test_score</th>\n",
       "      <th>mean_test_score</th>\n",
       "      <th>std_test_score</th>\n",
       "      <th>rank_test_score</th>\n",
       "    </tr>\n",
       "  </thead>\n",
       "  <tbody>\n",
       "    <tr>\n",
       "      <th>0</th>\n",
       "      <td>0.099182</td>\n",
       "      <td>0.007122</td>\n",
       "      <td>0.035325</td>\n",
       "      <td>0.001046</td>\n",
       "      <td>0.1</td>\n",
       "      <td>None</td>\n",
       "      <td>hinge</td>\n",
       "      <td>0.5</td>\n",
       "      <td>(1, 1)</td>\n",
       "      <td>False</td>\n",
       "      <td>{'clf__C': 0.1, 'clf__class_weight': None, 'cl...</td>\n",
       "      <td>0.730975</td>\n",
       "      <td>0.698285</td>\n",
       "      <td>0.716506</td>\n",
       "      <td>0.715255</td>\n",
       "      <td>0.013375</td>\n",
       "      <td>364</td>\n",
       "    </tr>\n",
       "    <tr>\n",
       "      <th>1</th>\n",
       "      <td>0.107523</td>\n",
       "      <td>0.008120</td>\n",
       "      <td>0.037750</td>\n",
       "      <td>0.000495</td>\n",
       "      <td>0.1</td>\n",
       "      <td>None</td>\n",
       "      <td>hinge</td>\n",
       "      <td>0.5</td>\n",
       "      <td>(1, 1)</td>\n",
       "      <td>True</td>\n",
       "      <td>{'clf__C': 0.1, 'clf__class_weight': None, 'cl...</td>\n",
       "      <td>0.727760</td>\n",
       "      <td>0.696141</td>\n",
       "      <td>0.713290</td>\n",
       "      <td>0.712397</td>\n",
       "      <td>0.012924</td>\n",
       "      <td>397</td>\n",
       "    </tr>\n",
       "    <tr>\n",
       "      <th>2</th>\n",
       "      <td>0.214999</td>\n",
       "      <td>0.011389</td>\n",
       "      <td>0.057595</td>\n",
       "      <td>0.002108</td>\n",
       "      <td>0.1</td>\n",
       "      <td>None</td>\n",
       "      <td>hinge</td>\n",
       "      <td>0.5</td>\n",
       "      <td>(1, 2)</td>\n",
       "      <td>False</td>\n",
       "      <td>{'clf__C': 0.1, 'clf__class_weight': None, 'cl...</td>\n",
       "      <td>0.727760</td>\n",
       "      <td>0.692390</td>\n",
       "      <td>0.713290</td>\n",
       "      <td>0.711147</td>\n",
       "      <td>0.014519</td>\n",
       "      <td>427</td>\n",
       "    </tr>\n",
       "  </tbody>\n",
       "</table>\n",
       "</div>"
      ],
      "text/plain": [
       "   mean_fit_time  std_fit_time  mean_score_time  std_score_time param_clf__C  \\\n",
       "0       0.099182      0.007122         0.035325        0.001046          0.1   \n",
       "1       0.107523      0.008120         0.037750        0.000495          0.1   \n",
       "2       0.214999      0.011389         0.057595        0.002108          0.1   \n",
       "\n",
       "  param_clf__class_weight param_clf__loss param_feats__text__tfidf__max_df  \\\n",
       "0                    None           hinge                              0.5   \n",
       "1                    None           hinge                              0.5   \n",
       "2                    None           hinge                              0.5   \n",
       "\n",
       "  param_feats__text__tfidf__ngram_range param_feats__text__tfidf__use_idf  \\\n",
       "0                                (1, 1)                             False   \n",
       "1                                (1, 1)                              True   \n",
       "2                                (1, 2)                             False   \n",
       "\n",
       "                                              params  split0_test_score  \\\n",
       "0  {'clf__C': 0.1, 'clf__class_weight': None, 'cl...           0.730975   \n",
       "1  {'clf__C': 0.1, 'clf__class_weight': None, 'cl...           0.727760   \n",
       "2  {'clf__C': 0.1, 'clf__class_weight': None, 'cl...           0.727760   \n",
       "\n",
       "   split1_test_score  split2_test_score  mean_test_score  std_test_score  \\\n",
       "0           0.698285           0.716506         0.715255        0.013375   \n",
       "1           0.696141           0.713290         0.712397        0.012924   \n",
       "2           0.692390           0.713290         0.711147        0.014519   \n",
       "\n",
       "   rank_test_score  \n",
       "0              364  \n",
       "1              397  \n",
       "2              427  "
      ]
     },
     "execution_count": 99,
     "metadata": {},
     "output_type": "execute_result"
    }
   ],
   "source": [
    "print('Best params: {}'.format(svm_grid.best_params_))\n",
    "svm_cv_results = pd.DataFrame(svm_grid.cv_results_)\n",
    "svm_cv_results.head(3)"
   ]
  },
  {
   "cell_type": "code",
   "execution_count": 101,
   "metadata": {},
   "outputs": [
    {
     "name": "stdout",
     "output_type": "stream",
     "text": [
      "Naive Bayes Classifier saved\n",
      "SVM Classifier saved\n"
     ]
    }
   ],
   "source": [
    "joblib.dump(nb_grid, \"./output/twitter_sentiment_naivebayes.pkl\")\n",
    "print('Naive Bayes Classifier saved')\n",
    "joblib.dump(svm_grid, \"./output/twitter_sentiment_svm.pkl\")\n",
    "print('SVM Classifier saved')"
   ]
  },
  {
   "cell_type": "code",
   "execution_count": 103,
   "metadata": {},
   "outputs": [],
   "source": [
    "# Get and save predictions from best models above\n",
    "\n",
    "# Naive Bayes\n",
    "y_preds_nb = nb_grid.predict(X_test)\n",
    "# Save predictions for evaluation as numpy arrays\n",
    "np.save('./output/y_predsNB.npy', y_preds_nb)\n",
    "\n",
    "# Support Vector Machine\n",
    "y_preds_svm = svm_grid.predict(X_test)\n",
    "# Save predictions for evaluation as numpy arrays\n",
    "np.save('./output/y_predsSVM.npy', y_preds_svm)"
   ]
  },
  {
   "cell_type": "code",
   "execution_count": 104,
   "metadata": {},
   "outputs": [],
   "source": [
    "# Guardar dataset para evaluacion\n",
    "np.save('./output/y_test.npy', y_test)"
   ]
  },
  {
   "cell_type": "markdown",
   "metadata": {},
   "source": [
    "# DEEP LEARNING"
   ]
  },
  {
   "cell_type": "code",
   "execution_count": 120,
   "metadata": {},
   "outputs": [],
   "source": [
    "# Parameter indicating the number of words\n",
    "nb_words = 10000  \n",
    "\n",
    "## create the tokenizer (tweets have been preprocessed so no need for filters)\n",
    "tk = Tokenizer(num_words=nb_words)\n",
    "\n",
    "# fit the tokenizer on tweets\n",
    "tk.fit_on_texts(train_prep.text.astype(str))\n",
    "\n",
    "# integer encode tweets\n",
    "tweets_seq = tk.texts_to_sequences(train_prep.text.astype(str))"
   ]
  },
  {
   "cell_type": "code",
   "execution_count": 121,
   "metadata": {},
   "outputs": [],
   "source": [
    "train_prep['palabras']=sent['palabras']"
   ]
  },
  {
   "cell_type": "code",
   "execution_count": 122,
   "metadata": {},
   "outputs": [
    {
     "data": {
      "text/plain": [
       "count    7998.000000\n",
       "mean       13.196049\n",
       "std         6.939516\n",
       "min         1.000000\n",
       "25%         7.000000\n",
       "50%        12.000000\n",
       "75%        19.000000\n",
       "max        34.000000\n",
       "Name: palabras, dtype: float64"
      ]
     },
     "execution_count": 122,
     "metadata": {},
     "output_type": "execute_result"
    }
   ],
   "source": [
    "train_prep['palabras'].describe()"
   ]
  },
  {
   "cell_type": "markdown",
   "metadata": {},
   "source": [
    "## Cada batch debe tener secuencias de la misma longitud, esto se logra con el metodo pad_sequences, especificando la longitud sera acolchada con ceros o se truncara"
   ]
  },
  {
   "cell_type": "code",
   "execution_count": 123,
   "metadata": {},
   "outputs": [],
   "source": [
    "# Maximum length since maximum tweet word count is 28.\n",
    "max_len = 28\n",
    "\n",
    "# Convert sequences into 2-D Numpy arrays\n",
    "features = pad_sequences(tweets_seq, maxlen=max_len)"
   ]
  },
  {
   "cell_type": "code",
   "execution_count": 124,
   "metadata": {},
   "outputs": [],
   "source": [
    "# test statements \n",
    "assert len(features)==len(tweets_seq), \"The features should have as many rows as tweets.\"\n",
    "assert len(features[0])==max_len, \"Each feature row should contain the mex length of values.\""
   ]
  },
  {
   "cell_type": "code",
   "execution_count": 125,
   "metadata": {},
   "outputs": [
    {
     "data": {
      "text/plain": [
       "<bound method NDFrame.describe of 0       0.0\n",
       "1       1.0\n",
       "2       1.0\n",
       "4       0.0\n",
       "5       1.0\n",
       "       ... \n",
       "9994    1.0\n",
       "9995    0.0\n",
       "9996    0.0\n",
       "9997    1.0\n",
       "9999    1.0\n",
       "Name: nLabel, Length: 7998, dtype: category\n",
       "Categories (3, float64): [-1.0, 0.0, 1.0]>"
      ]
     },
     "execution_count": 125,
     "metadata": {},
     "output_type": "execute_result"
    }
   ],
   "source": [
    "# to hot-encode\n",
    "train_prep[\"nLabel\"] = train_prep[\"nLabel\"].astype(\"category\")\n",
    "train_prep.nLabel.describe"
   ]
  },
  {
   "cell_type": "code",
   "execution_count": 128,
   "metadata": {},
   "outputs": [
    {
     "name": "stdout",
     "output_type": "stream",
     "text": [
      "\t\t\tFeature Shapes:\n",
      "Train set X: \t\t(6398, 28) \n",
      "Train set Y: \t\t(6398, 3) \n",
      "Test set X: \t\t(1600, 28) \n",
      "Test set Y: \t\t(1600, 3)\n"
     ]
    }
   ],
   "source": [
    "## split data into training and test data (features and labels, x and y)\n",
    "# data needs to be as array\n",
    "labels = pd.get_dummies(train_prep['nLabel']).values\n",
    "#labels = np.asarray(train_prep.label.values)\n",
    "\n",
    "X_train, X_test, Y_train, Y_test = train_test_split(features, labels, test_size = 0.2, random_state = 42)\n",
    "\n",
    "## print out the shapes of the resultant feature data\n",
    "print(\"\\t\\t\\tFeature Shapes:\")\n",
    "print(\"Train set X: \\t\\t{}\".format(X_train.shape),\n",
    "      \"\\nTrain set Y: \\t\\t{}\".format(Y_train.shape),\n",
    "      \"\\nTest set X: \\t\\t{}\".format(X_test.shape),\n",
    "      \"\\nTest set Y: \\t\\t{}\".format(Y_test.shape))"
   ]
  },
  {
   "cell_type": "markdown",
   "metadata": {},
   "source": [
    "# LSTM Network with Keras"
   ]
  },
  {
   "cell_type": "code",
   "execution_count": 129,
   "metadata": {},
   "outputs": [
    {
     "name": "stdout",
     "output_type": "stream",
     "text": [
      "No GPU available, training on CPU.\n"
     ]
    }
   ],
   "source": [
    "# First checking if GPU is available\n",
    "train_on_gpu=torch.cuda.is_available()\n",
    "\n",
    "if(train_on_gpu):\n",
    "    print('Training on GPU.')\n",
    "else:\n",
    "    print('No GPU available, training on CPU.')"
   ]
  },
  {
   "cell_type": "code",
   "execution_count": 130,
   "metadata": {},
   "outputs": [
    {
     "name": "stdout",
     "output_type": "stream",
     "text": [
      "Building model...\n",
      "Model: \"modeloKeras\"\n",
      "_________________________________________________________________\n",
      "Layer (type)                 Output Shape              Param #   \n",
      "=================================================================\n",
      "embedding (Embedding)        (None, 28, 128)           1280000   \n",
      "_________________________________________________________________\n",
      "dropout (Dropout)            (None, 28, 128)           0         \n",
      "_________________________________________________________________\n",
      "lstm (LSTM)                  (None, 200)               263200    \n",
      "_________________________________________________________________\n",
      "dropout_1 (Dropout)          (None, 200)               0         \n",
      "_________________________________________________________________\n",
      "dense (Dense)                (None, 3)                 603       \n",
      "=================================================================\n",
      "Total params: 1,543,803\n",
      "Trainable params: 1,543,803\n",
      "Non-trainable params: 0\n",
      "_________________________________________________________________\n",
      "None\n"
     ]
    }
   ],
   "source": [
    "from keras.layers import Dense, Embedding, LSTM, Dropout\n",
    "\n",
    "#--- Parameters----#\n",
    "\n",
    "# encodes input sequence dense vectors \n",
    "embed_dim = 128\n",
    "\n",
    "# transforms the vector sequence into a single vector\n",
    "lstm_out = 200\n",
    "\n",
    "# batch size of 32 is a good starting point\n",
    "batch_size = 32\n",
    "\n",
    "# epochs\n",
    "epochs = 10\n",
    "\n",
    "#------# Build the LSTM model #-----------------#\n",
    "\n",
    "print('Building model...') \n",
    "\n",
    "# Initialising the RNN\n",
    "model = Sequential()\n",
    "\n",
    "#adding an input layer and the first hidden layer\n",
    "model.add(Embedding(10000, embed_dim, \n",
    "                    input_length = features.shape[1], \n",
    "                   )) \n",
    "model.add(Dropout(0.2))\n",
    "# Adding the second hidden layer\n",
    "model.add(LSTM(lstm_out))\n",
    "model.add(Dropout(0.2))\n",
    "\n",
    "# Adding the output layer\n",
    "model.add(Dense(3, activation='softmax'))\n",
    "\n",
    "# Compile model\n",
    "model.compile( optimizer='adam', # optimazer\n",
    "              loss = 'categorical_crossentropy', # loss function\n",
    "              metrics = ['accuracy']) # list of metrics\n",
    "\n",
    "model._name = 'modeloKeras'\n",
    "print(model.summary())"
   ]
  },
  {
   "cell_type": "code",
   "execution_count": 131,
   "metadata": {},
   "outputs": [
    {
     "name": "stdout",
     "output_type": "stream",
     "text": [
      "Epoch 1/10\n",
      "134/134 [==============================] - 5s 35ms/step - loss: 0.9267 - accuracy: 0.5639 - val_loss: 0.7803 - val_accuracy: 0.6719\n",
      "Epoch 2/10\n",
      "134/134 [==============================] - 4s 33ms/step - loss: 0.4185 - accuracy: 0.8467 - val_loss: 0.4819 - val_accuracy: 0.8305\n",
      "Epoch 3/10\n",
      "134/134 [==============================] - 5s 35ms/step - loss: 0.1451 - accuracy: 0.9620 - val_loss: 0.5319 - val_accuracy: 0.8097\n",
      "Epoch 4/10\n",
      "134/134 [==============================] - 5s 35ms/step - loss: 0.0633 - accuracy: 0.9865 - val_loss: 0.6197 - val_accuracy: 0.8272\n",
      "Epoch 5/10\n",
      "134/134 [==============================] - 5s 36ms/step - loss: 0.0374 - accuracy: 0.9900 - val_loss: 0.6072 - val_accuracy: 0.8234\n",
      "Epoch 6/10\n",
      "134/134 [==============================] - 5s 38ms/step - loss: 0.0240 - accuracy: 0.9942 - val_loss: 0.6999 - val_accuracy: 0.8106\n",
      "Epoch 7/10\n",
      "134/134 [==============================] - 5s 37ms/step - loss: 0.0335 - accuracy: 0.9911 - val_loss: 0.8877 - val_accuracy: 0.8101\n",
      "Epoch 8/10\n",
      "134/134 [==============================] - 5s 38ms/step - loss: 0.0190 - accuracy: 0.9951 - val_loss: 0.7386 - val_accuracy: 0.8234\n",
      "Epoch 9/10\n",
      "134/134 [==============================] - 5s 38ms/step - loss: 0.0134 - accuracy: 0.9960 - val_loss: 0.9493 - val_accuracy: 0.8291\n",
      "Epoch 10/10\n",
      "134/134 [==============================] - 5s 36ms/step - loss: 0.0124 - accuracy: 0.9963 - val_loss: 0.9765 - val_accuracy: 0.8201\n"
     ]
    }
   ],
   "source": [
    "# Fit the model\n",
    "history = model.fit(X_train, Y_train, \n",
    "                    validation_split=0.33, \n",
    "                    batch_size = batch_size, \n",
    "                    epochs = epochs, verbose = True)"
   ]
  },
  {
   "cell_type": "code",
   "execution_count": 132,
   "metadata": {},
   "outputs": [],
   "source": [
    "def eval_metric(model, history, metric_name):\n",
    "    '''\n",
    "    Function to evaluate a trained model on a chosen metric. \n",
    "    Training and validation metric are plotted in a\n",
    "    line chart for each epoch.\n",
    "    \n",
    "    Parameters:\n",
    "        history : model training history\n",
    "        metric_name : loss or accuracy\n",
    "    Output:\n",
    "        line chart with epochs of x-axis and metric on\n",
    "        y-axis\n",
    "    '''\n",
    "    metric = history.history[metric_name]\n",
    "    val_metric = history.history['val_' + metric_name]\n",
    "\n",
    "    e = range(1, epochs + 1)\n",
    "\n",
    "    plt.plot(e, metric, 'ro', label='Train ' + metric_name)\n",
    "    plt.plot(e, val_metric, 'r', label='Validation ' + metric_name)\n",
    "    plt.xlabel('Epoch number')\n",
    "    plt.ylabel(metric_name)\n",
    "    plt.title('Comparing training and validation ' + metric_name + ' for ' + model.name)\n",
    "    plt.legend()\n",
    "    plt.show()\n",
    "\n",
    "\n",
    "def optimal_epoch(model_hist):\n",
    "    '''\n",
    "    Function to return the epoch number where the validation loss is\n",
    "    at its minimum\n",
    "    \n",
    "    Parameters:\n",
    "        model_hist : training history of model\n",
    "    Output:\n",
    "        epoch number with minimum validation loss\n",
    "    '''\n",
    "    min_epoch = np.argmin(model_hist.history['val_loss']) + 1\n",
    "    print(\"Minimum validation loss reached in epoch {}\".format(min_epoch))\n",
    "    return min_epoch\n",
    "\n",
    "def test_model(model, X_train, y_train, X_test, y_test, epoch_stop):\n",
    "    '''\n",
    "    Function to test the model on new data after training it\n",
    "    on the full training data with the optimal number of epochs.\n",
    "    \n",
    "    Parameters:\n",
    "        model : trained model\n",
    "        X_train : training features\n",
    "        y_train : training target\n",
    "        X_test : test features\n",
    "        y_test : test target\n",
    "        epochs : optimal number of epochs\n",
    "    Output:\n",
    "        test accuracy and test loss\n",
    "    '''\n",
    "    model.fit(X_train\n",
    "              , y_train\n",
    "              , epochs=epoch_stop\n",
    "              , batch_size=epochs\n",
    "              , verbose=0)\n",
    "    results = model.evaluate(X_test, y_test)\n",
    "    print()\n",
    "    print('Test accuracy: {0:.2f}%'.format(results[1]*100))\n",
    "    return results"
   ]
  },
  {
   "cell_type": "code",
   "execution_count": 133,
   "metadata": {},
   "outputs": [
    {
     "data": {
      "image/png": "[encoded data removed]",
      "text/plain": [
       "<Figure size 432x288 with 1 Axes>"
      ]
     },
     "metadata": {
      "needs_background": "light"
     },
     "output_type": "display_data"
    },
    {
     "name": "stdout",
     "output_type": "stream",
     "text": [
      "Minimum validation loss reached in epoch 2\n",
      "2\n"
     ]
    }
   ],
   "source": [
    "import matplotlib.pyplot as plt\n",
    "\n",
    "eval_metric(model, history, 'loss')\n",
    "print(optimal_epoch(history))"
   ]
  },
  {
   "cell_type": "code",
   "execution_count": 134,
   "metadata": {},
   "outputs": [
    {
     "name": "stdout",
     "output_type": "stream",
     "text": [
      "Building model...\n",
      "Model: \"sequential_1\"\n",
      "_________________________________________________________________\n",
      "Layer (type)                 Output Shape              Param #   \n",
      "=================================================================\n",
      "embedding_1 (Embedding)      (None, 28, 128)           1920000   \n",
      "_________________________________________________________________\n",
      "lstm_1 (LSTM)                (None, 200)               263200    \n",
      "_________________________________________________________________\n",
      "dense_1 (Dense)              (None, 3)                 603       \n",
      "=================================================================\n",
      "Total params: 2,183,803\n",
      "Trainable params: 2,183,803\n",
      "Non-trainable params: 0\n",
      "_________________________________________________________________\n",
      "None\n"
     ]
    }
   ],
   "source": [
    "# Applying regularisation\n",
    "\n",
    "print('Building model...') \n",
    "\n",
    "reg_model = Sequential()\n",
    "reg_model.add(Embedding(15000, embed_dim, input_length = features.shape[1]))\n",
    "model.add(Dropout(0.2))\n",
    "reg_model.add(LSTM(lstm_out))\n",
    "reg_model.add(Dense(3, kernel_regularizer=regularizers.l2(0.001), activation='softmax'))\n",
    "\n",
    "# Compile model\n",
    "reg_model.compile( optimizer='adam', # optimazer\n",
    "              loss = 'categorical_crossentropy', # loss function\n",
    "              metrics = ['accuracy']) # list of metrics\n",
    "\n",
    "model._name = 'modeloKerasreg'\n",
    "print(reg_model.summary())"
   ]
  },
  {
   "cell_type": "code",
   "execution_count": 135,
   "metadata": {},
   "outputs": [
    {
     "name": "stdout",
     "output_type": "stream",
     "text": [
      "Epoch 1/10\n",
      "429/429 [==============================] - 11s 25ms/step - loss: 0.8134 - accuracy: 0.6377 - val_loss: 0.5604 - val_accuracy: 0.7945\n",
      "Epoch 2/10\n",
      "429/429 [==============================] - 11s 27ms/step - loss: 0.2861 - accuracy: 0.9092 - val_loss: 0.4675 - val_accuracy: 0.8362\n",
      "Epoch 3/10\n",
      "429/429 [==============================] - 11s 25ms/step - loss: 0.1170 - accuracy: 0.9692 - val_loss: 0.4749 - val_accuracy: 0.8494\n",
      "Epoch 4/10\n",
      "429/429 [==============================] - 11s 26ms/step - loss: 0.0740 - accuracy: 0.9813 - val_loss: 0.6051 - val_accuracy: 0.8452\n",
      "Epoch 5/10\n",
      "429/429 [==============================] - 14s 32ms/step - loss: 0.0506 - accuracy: 0.9904 - val_loss: 0.6005 - val_accuracy: 0.8485\n",
      "Epoch 6/10\n",
      "429/429 [==============================] - 14s 33ms/step - loss: 0.0414 - accuracy: 0.9897 - val_loss: 0.6768 - val_accuracy: 0.8177\n",
      "Epoch 7/10\n",
      "429/429 [==============================] - 17s 39ms/step - loss: 0.0314 - accuracy: 0.9939 - val_loss: 0.6804 - val_accuracy: 0.8310\n",
      "Epoch 8/10\n",
      "429/429 [==============================] - 15s 35ms/step - loss: 0.0333 - accuracy: 0.9935 - val_loss: 0.6116 - val_accuracy: 0.8438\n",
      "Epoch 9/10\n",
      "429/429 [==============================] - 14s 33ms/step - loss: 0.0368 - accuracy: 0.9918 - val_loss: 0.6315 - val_accuracy: 0.8499\n",
      "Epoch 10/10\n",
      "429/429 [==============================] - 12s 29ms/step - loss: 0.0186 - accuracy: 0.9970 - val_loss: 0.7762 - val_accuracy: 0.8201\n"
     ]
    }
   ],
   "source": [
    "# Fit the model\n",
    "reg_history = reg_model.fit(X_train, Y_train, \n",
    "                    validation_split=0.33, \n",
    "                    batch_size = epochs, \n",
    "                    epochs = epochs, verbose = True)"
   ]
  },
  {
   "cell_type": "code",
   "execution_count": 136,
   "metadata": {},
   "outputs": [
    {
     "data": {
      "image/png": "[encoded data removed]",
      "text/plain": [
       "<Figure size 432x288 with 1 Axes>"
      ]
     },
     "metadata": {
      "needs_background": "light"
     },
     "output_type": "display_data"
    },
    {
     "name": "stdout",
     "output_type": "stream",
     "text": [
      "Minimum validation loss reached in epoch 2\n",
      "2\n"
     ]
    }
   ],
   "source": [
    "eval_metric(reg_model, reg_history, 'loss')\n",
    "print(optimal_epoch(reg_history))"
   ]
  },
  {
   "cell_type": "code",
   "execution_count": 137,
   "metadata": {},
   "outputs": [
    {
     "name": "stdout",
     "output_type": "stream",
     "text": [
      "50/50 [==============================] - 0s 8ms/step - loss: 0.3926 - accuracy: 0.8813\n",
      "\n",
      "Test accuracy: 88.13%\n"
     ]
    }
   ],
   "source": [
    "# Optimal epochs\n",
    "base_min = 1 # first model\n",
    "reg_min = 2 # model with regularisation\n",
    "\n",
    "# Training on the full train data and evaluation on test data on first model\n",
    "base_results = test_model(model, X_train, Y_train, X_test, Y_test, base_min)"
   ]
  },
  {
   "cell_type": "code",
   "execution_count": 138,
   "metadata": {},
   "outputs": [
    {
     "name": "stdout",
     "output_type": "stream",
     "text": [
      "50/50 [==============================] - 0s 10ms/step - loss: 0.5195 - accuracy: 0.8531\n",
      "\n",
      "Test accuracy: 85.31%\n"
     ]
    }
   ],
   "source": [
    "# Training on second model with regularisation and evaluation on data on second model\n",
    "reg_results = test_model(reg_model, X_train, Y_train, X_test, Y_test, reg_min)"
   ]
  },
  {
   "cell_type": "code",
   "execution_count": 139,
   "metadata": {},
   "outputs": [
    {
     "name": "stdout",
     "output_type": "stream",
     "text": [
      "Saved LSTM model to models folder\n",
      "Saved LSTM model to models folder\n"
     ]
    }
   ],
   "source": [
    "#save first model and architecture\n",
    "model.save('./modelos/LSTM_model.h5')\n",
    "print('Saved LSTM model to models folder')\n",
    "\n",
    "# save second model and architecture\n",
    "reg_model.save('./modelos/LSTM_regmodel.h5')\n",
    "print('Saved LSTM model to models folder')"
   ]
  },
  {
   "cell_type": "code",
   "execution_count": 140,
   "metadata": {},
   "outputs": [],
   "source": [
    "# saving predictions\n",
    "X_train, X_test, Y_train, Y_test\n",
    "\n",
    "#-- LSTM model ----#\n",
    "y_preds_LSTM = model.predict(X_test)\n",
    "\n",
    "# Save predictions for evaluation as numpy arrays\n",
    "np.save('./predictions/y_predsLSTM.npy', y_preds_LSTM)\n",
    "\n",
    "#-- LSTM with regularisation model ----#\n",
    "y_preds_LSTMreg = reg_model.predict(X_test)\n",
    "\n",
    "# Save predictions for evaluation as numpy arrays\n",
    "np.save('./predictions/y_predsLSTMreg.npy', y_preds_LSTMreg)\n",
    "\n",
    "# Save test data\n",
    "np.save('./output/y_testLSTM.npy', Y_test)"
   ]
  },
  {
   "cell_type": "code",
   "execution_count": null,
   "metadata": {},
   "outputs": [],
   "source": []
  },
  {
   "cell_type": "code",
   "execution_count": null,
   "metadata": {},
   "outputs": [],
   "source": []
  }
 ],
 "metadata": {
  "kernelspec": {
   "display_name": "Python 3",
   "language": "python",
   "name": "python3"
  },
  "language_info": {
   "codemirror_mode": {
    "name": "ipython",
    "version": 3
   },
   "file_extension": ".py",
   "mimetype": "text/x-python",
   "name": "python",
   "nbconvert_exporter": "python",
   "pygments_lexer": "ipython3",
   "version": "3.8.5"
  }
 },
 "nbformat": 4,
 "nbformat_minor": 4
}
